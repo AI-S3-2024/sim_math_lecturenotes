{
 "cells": [
  {
   "cell_type": "code",
   "execution_count": 2,
   "id": "8d5e59f7-3d66-40cc-928a-eae3f5f323be",
   "metadata": {},
   "outputs": [],
   "source": [
    "import math\n",
    "from typing import Callable\n",
    "import numpy as np\n",
    "\n",
    "import matplotlib.pyplot as plt"
   ]
  },
  {
   "cell_type": "markdown",
   "id": "25f2bcfb-f868-4f96-8f16-f15bff9d6adf",
   "metadata": {},
   "source": [
    "## Voorbeeld: Knikkers trekken\n",
    "Je hebt een pot met 10 knikkers. Je hebt 1 groene, 2 blauwe, 3 gele en 4 rode knikkers. Je trekt er 1. Wat is de kans dat die knikker blauw of groen is?"
   ]
  },
  {
   "cell_type": "markdown",
   "id": "9285f134-0123-4505-b395-70ce139134d3",
   "metadata": {},
   "source": [
    "Simuleer:\n",
    "\n",
    "We kiezen een random getal in het interval [1,10]. Een 1 komt overeen met groen, 2 of 3 met blauw, 4 t/m 6 met geel en 7 t/m 10 met rood. Maak hierbij gebruik van np.random.randint. \n",
    "Voer de simulatie 100 keer uit en bepaal daarmee de bijbehorende kans."
   ]
  },
  {
   "cell_type": "code",
   "execution_count": 14,
   "id": "d80477b5-9fde-48d1-be3a-c396d383107b",
   "metadata": {},
   "outputs": [
    {
     "data": {
      "text/plain": [
       "2"
      ]
     },
     "execution_count": 14,
     "metadata": {},
     "output_type": "execute_result"
    }
   ],
   "source": [
    "np.random.randint(1,11)"
   ]
  },
  {
   "cell_type": "code",
   "execution_count": 17,
   "id": "c1cfa388-8f3e-419f-9685-e35bba6e0355",
   "metadata": {},
   "outputs": [],
   "source": [
    "def random_ball(random_number):\n",
    "    if random_number==1:\n",
    "        return 'green'\n",
    "    elif random_number<4:\n",
    "        return 'blue'\n",
    "    elif random_number<7:\n",
    "        return 'yellow'\n",
    "    else:\n",
    "        return 'red'\n",
    "        "
   ]
  },
  {
   "cell_type": "code",
   "execution_count": 33,
   "id": "a5bb7cc4-c8f9-49a9-bb35-5898e0207498",
   "metadata": {},
   "outputs": [
    {
     "data": {
      "text/plain": [
       "28"
      ]
     },
     "execution_count": 33,
     "metadata": {},
     "output_type": "execute_result"
    }
   ],
   "source": [
    "number_of_experiments = 100\n",
    "sum([(random_ball(random_number)=='green' or random_ball(random_number)=='blue') for random_number in np.random.randint(1,11,number_of_experiments)])"
   ]
  },
  {
   "cell_type": "code",
   "execution_count": 19,
   "id": "73be1871-cc29-42e8-aa84-8a88f7ec6d7c",
   "metadata": {},
   "outputs": [
    {
     "data": {
      "text/plain": [
       "array([ 3,  1,  2,  4,  9,  2,  4,  7,  5, 10,  3,  7,  4,  3,  3,  5,  3,\n",
       "        3,  8,  7,  1,  8,  2,  1,  9,  5,  9,  9,  9, 10,  1,  9,  4,  2,\n",
       "        7,  7,  3,  4,  4,  1,  1,  6,  7,  4, 10,  7,  4,  9,  4, 10, 10,\n",
       "        1,  7,  8,  6,  2,  6, 10,  2,  5, 10,  8,  9, 10,  3,  4, 10, 10,\n",
       "        4,  2,  8,  8,  1,  4,  4,  3, 10,  1,  4, 10,  2,  2,  2, 10,  4,\n",
       "        6,  2,  3,  5,  1, 10,  3,  6,  7,  1, 10,  8,  8,  9,  2])"
      ]
     },
     "execution_count": 19,
     "metadata": {},
     "output_type": "execute_result"
    }
   ],
   "source": [
    "np.random.randint(1,11,number_of_experiments)"
   ]
  },
  {
   "cell_type": "markdown",
   "id": "248e645c-a2ef-4562-b5a7-e63ab57b6cde",
   "metadata": {},
   "source": [
    "Stel je pakt 100 keer een bal, hoe vaak zal die rood zijn? (Voorbeeld met np.random.choice)"
   ]
  },
  {
   "cell_type": "code",
   "execution_count": 63,
   "id": "df78e891-b8b3-4964-821e-ce6bf8a60eca",
   "metadata": {},
   "outputs": [
    {
     "data": {
      "text/plain": [
       "48"
      ]
     },
     "execution_count": 63,
     "metadata": {},
     "output_type": "execute_result"
    }
   ],
   "source": [
    "sum(np.random.choice(['blue','green','red','yellow'], p = [2/10, 1/10, 4/10, 3/10], size = 100)=='red')"
   ]
  },
  {
   "cell_type": "markdown",
   "id": "8bbcbd1e-a43a-40c2-bda0-3133c62d5c06",
   "metadata": {},
   "source": [
    "Nu trekken we 2 knikkers, wat is de kans op een gele en een rode? Simuleer hiervoor 1000 trekkingen."
   ]
  },
  {
   "cell_type": "code",
   "execution_count": 84,
   "id": "782601e4-4408-45ad-b57b-7eed2e0daba5",
   "metadata": {},
   "outputs": [],
   "source": [
    "pot = ['blue'] +['green']*2 + ['yellow']*3 + ['red']*4"
   ]
  },
  {
   "cell_type": "code",
   "execution_count": 91,
   "id": "9de95982-674b-4980-a8bf-540b08074ef1",
   "metadata": {},
   "outputs": [
    {
     "data": {
      "text/plain": [
       "249.0"
      ]
     },
     "execution_count": 91,
     "metadata": {},
     "output_type": "execute_result"
    }
   ],
   "source": [
    "sample = np.zeros(1000)\n",
    "\n",
    "for i in range(1000):\n",
    "    ballen = np.random.choice(pot,  size = 2, replace = False)\n",
    "    if ('yellow' in ballen and 'red' in ballen):\n",
    "        sample[i] = 1\n",
    "sum(sample)"
   ]
  },
  {
   "cell_type": "markdown",
   "id": "c5ac486e-9e2e-47eb-9a75-9e9ee90fdd00",
   "metadata": {},
   "source": [
    "## Oefenopdracht normale verdeling"
   ]
  },
  {
   "cell_type": "code",
   "execution_count": 92,
   "id": "53e8bfe5-ba9b-4da8-ad00-626e86697e58",
   "metadata": {},
   "outputs": [
    {
     "data": {
      "text/plain": [
       "0.3413471657617572"
      ]
     },
     "execution_count": 92,
     "metadata": {},
     "output_type": "execute_result"
    }
   ],
   "source": [
    "def norm_pdf(x: float) -> float:\n",
    "    return 1/math.sqrt(2 * math.pi) * math.exp(-x**2 / 2)\n",
    "\n",
    "def get_integral_between(func: Callable[[float], float], x1: float, x2: float, delta: float = 0.00001) -> float:\n",
    "    x = x1\n",
    "    integral = 0\n",
    "    while x < x2:\n",
    "        integral += (func(x) + func(x + delta)) / 2 * delta\n",
    "        x += delta\n",
    "    return integral\n",
    "    \n",
    "get_integral_between(norm_pdf, 0, 1)"
   ]
  },
  {
   "cell_type": "code",
   "execution_count": 93,
   "id": "feb9e7b2-f41d-4041-92c1-79e33b58ff5c",
   "metadata": {},
   "outputs": [],
   "source": [
    "def length(x):\n",
    "    return 1/(25 * math.sqrt(2 * math.pi)) * math.exp(-1/2 * ((x-175)/25)**2 )"
   ]
  },
  {
   "cell_type": "code",
   "execution_count": 94,
   "id": "6f767131-e864-45a4-a266-540b460aa65f",
   "metadata": {},
   "outputs": [
    {
     "data": {
      "text/plain": [
       "0.3050065916768211"
      ]
     },
     "execution_count": 94,
     "metadata": {},
     "output_type": "execute_result"
    }
   ],
   "source": [
    "get_integral_between(length, 170, 190)"
   ]
  },
  {
   "cell_type": "code",
   "execution_count": null,
   "id": "e3b817b8-748c-4960-b573-71783e089a6b",
   "metadata": {},
   "outputs": [],
   "source": []
  },
  {
   "cell_type": "code",
   "execution_count": null,
   "id": "e36a9c33-f498-450d-8f10-5bfe17646f8b",
   "metadata": {},
   "outputs": [],
   "source": []
  },
  {
   "cell_type": "markdown",
   "id": "20174537-5b2c-476c-b34a-f96140a404c2",
   "metadata": {},
   "source": [
    "## Machine onderhoud"
   ]
  },
  {
   "cell_type": "code",
   "execution_count": 107,
   "id": "acd61c49-52ba-4885-8cb5-8508311bca17",
   "metadata": {},
   "outputs": [
    {
     "data": {
      "text/plain": [
       "176"
      ]
     },
     "execution_count": 107,
     "metadata": {},
     "output_type": "execute_result"
    }
   ],
   "source": [
    "days = 1000\n",
    "prob_dict = {'motor':0.02, 'lopende band':0.05, 'pers' : 0.01, 'lader' : 0.03, 'compressor':0.06}\n",
    "\n",
    "broken_days_counter = 0\n",
    "\n",
    "for day in range(days):\n",
    "    broken = False\n",
    "    for key in prob_dict:\n",
    "        broken = np.random.choice([True, False], p = [prob_dict[key], 1 - prob_dict[key]])\n",
    "        if broken:\n",
    "            broken_days_counter +=1\n",
    "            break\n",
    "        \n",
    "broken_days_counter"
   ]
  },
  {
   "cell_type": "code",
   "execution_count": 115,
   "id": "79b402f5-bc25-4617-a01e-0abafc8d466b",
   "metadata": {},
   "outputs": [
    {
     "data": {
      "text/plain": [
       "-158.423"
      ]
     },
     "execution_count": 115,
     "metadata": {},
     "output_type": "execute_result"
    }
   ],
   "source": [
    "days = 1000000\n",
    "probs = [0.02, 0.05, 0.01, 0.03, 0.06]\n",
    "\n",
    "broken_days_counter = 0\n",
    "broken_part = []\n",
    "\n",
    "for _ in range(days):\n",
    "    broken = False\n",
    "    for item in probs:\n",
    "        broken = np.random.choice([True, False], p = [item, 1 - item])\n",
    "        if broken:\n",
    "            broken_days_counter +=1\n",
    "            break\n",
    "        \n",
    "1- broken_days_counter/1000"
   ]
  },
  {
   "cell_type": "code",
   "execution_count": 106,
   "id": "2ee4ff35-a8b6-4bd1-a00a-cf6facd38dec",
   "metadata": {},
   "outputs": [
    {
     "data": {
      "text/plain": [
       "0.8403969419999998"
      ]
     },
     "execution_count": 106,
     "metadata": {},
     "output_type": "execute_result"
    }
   ],
   "source": [
    "kans_niet_kapot = 1\n",
    "for value in probs:\n",
    "    kans_niet_kapot *= (1-value)\n",
    "\n",
    "kans_niet_kapot\n",
    "    "
   ]
  },
  {
   "cell_type": "markdown",
   "id": "31cc53e3-2362-4ed1-a6de-07be2c64d942",
   "metadata": {},
   "source": [
    "## Oefenopdracht verwachtingswaarde continue stochast"
   ]
  },
  {
   "cell_type": "code",
   "execution_count": 117,
   "id": "4bd53a0e-5684-42c9-9369-0d5ce90e1e24",
   "metadata": {},
   "outputs": [],
   "source": [
    "def prob_func(x: float)->float:\n",
    "    return 1/44.267*math.exp(-((x-175)/25)**2)\n",
    "\n",
    "#get_integral_between(prob_func, 140, 200)"
   ]
  },
  {
   "cell_type": "code",
   "execution_count": 119,
   "id": "dcb19ece-4fe8-4d62-8d4b-5448867b4fd1",
   "metadata": {},
   "outputs": [],
   "source": [
    "def integrand(x):\n",
    "    return x*prob_func(x)"
   ]
  },
  {
   "cell_type": "code",
   "execution_count": 122,
   "id": "eeede16e-e2ef-4000-bc5f-4f8f1175b525",
   "metadata": {},
   "outputs": [],
   "source": [
    "vw = get_integral_between(integrand, 100, 250)"
   ]
  },
  {
   "cell_type": "code",
   "execution_count": 121,
   "id": "1c509da3-dd42-4a62-9fd7-e39254636e45",
   "metadata": {},
   "outputs": [
    {
     "data": {
      "text/plain": [
       "175.17144362190993"
      ]
     },
     "execution_count": 121,
     "metadata": {},
     "output_type": "execute_result"
    }
   ],
   "source": [
    "vw"
   ]
  },
  {
   "cell_type": "markdown",
   "id": "dc687494-3193-4b27-a003-0e9f3c20ffe0",
   "metadata": {},
   "source": [
    "opdracht b"
   ]
  },
  {
   "cell_type": "code",
   "execution_count": 33,
   "id": "cf4dde59-7d15-4d2b-b29d-c7d042f40991",
   "metadata": {},
   "outputs": [],
   "source": [
    "def p(x):\n",
    "    return 2.1754*3**(-2*x)"
   ]
  },
  {
   "cell_type": "code",
   "execution_count": 34,
   "id": "9e9ebb26-4357-4d4e-b308-2189f84af32c",
   "metadata": {},
   "outputs": [],
   "source": [
    "x = np.linspace(0,10, 1000)"
   ]
  },
  {
   "cell_type": "code",
   "execution_count": 35,
   "id": "06818a58-120a-4aaa-b9b6-925ca238f8f7",
   "metadata": {},
   "outputs": [],
   "source": [
    "y = p(x)"
   ]
  },
  {
   "cell_type": "code",
   "execution_count": 38,
   "id": "62926126-68d7-48b8-8c91-516178f689b3",
   "metadata": {
    "scrolled": true
   },
   "outputs": [
    {
     "data": {
      "text/plain": [
       "[<matplotlib.lines.Line2D at 0x113dfdcd0>]"
      ]
     },
     "execution_count": 38,
     "metadata": {},
     "output_type": "execute_result"
    },
    {
     "data": {
      "image/png": "[encoded data removed]",
      "text/plain": [
       "<Figure size 640x480 with 1 Axes>"
      ]
     },
     "metadata": {},
     "output_type": "display_data"
    }
   ],
   "source": [
    "plt.plot(x,y)"
   ]
  },
  {
   "cell_type": "code",
   "execution_count": 39,
   "id": "a70d23fc-d62a-43a1-9c44-750b9bbc16a2",
   "metadata": {},
   "outputs": [],
   "source": [
    "def integrand(x):\n",
    "    return x * p(x)"
   ]
  },
  {
   "cell_type": "code",
   "execution_count": 40,
   "id": "06c8dbf8-7113-4755-aba4-219737e2689c",
   "metadata": {
    "collapsed": true,
    "jupyter": {
     "outputs_hidden": true
    }
   },
   "outputs": [
    {
     "data": {
      "text/plain": [
       "0.4505869787428179"
      ]
     },
     "execution_count": 40,
     "metadata": {},
     "output_type": "execute_result"
    }
   ],
   "source": [
    "get_integral_between(integrand, 0,6)"
   ]
  }
 ],
 "metadata": {
  "kernelspec": {
   "display_name": "Python 3 (ipykernel)",
   "language": "python",
   "name": "python3"
  },
  "language_info": {
   "codemirror_mode": {
    "name": "ipython",
    "version": 3
   },
   "file_extension": ".py",
   "mimetype": "text/x-python",
   "name": "python",
   "nbconvert_exporter": "python",
   "pygments_lexer": "ipython3",
   "version": "3.12.4"
  }
 },
 "nbformat": 4,
 "nbformat_minor": 5
}

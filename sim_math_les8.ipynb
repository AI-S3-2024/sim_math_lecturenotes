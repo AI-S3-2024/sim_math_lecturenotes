{
 "cells": [
  {
   "cell_type": "markdown",
   "id": "463a1226-61ad-4b3c-8ed7-11fb296feb41",
   "metadata": {},
   "source": [
    "# Les 8 - standaarddeviatie, bernoulli en binomiale verdeling"
   ]
  },
  {
   "cell_type": "code",
   "execution_count": 1,
   "id": "9d6f2f9b-2260-4903-b68a-062cc6bc10f3",
   "metadata": {},
   "outputs": [],
   "source": [
    "import matplotlib.pyplot as plt\n",
    "import numpy as np\n",
    "import math"
   ]
  },
  {
   "cell_type": "markdown",
   "id": "828682d7-0285-418e-b11e-72f123a72113",
   "metadata": {},
   "source": [
    "## Standaarddeviatie discrete stochast"
   ]
  },
  {
   "cell_type": "markdown",
   "id": "91da14de-dfce-4d47-afe4-f21f44bb64ac",
   "metadata": {},
   "source": [
    "Gegeven is de stochast X met een discrete kansverdeling. Om de *sample mean* en *sample standaarddeviatie* te berekenen doe je het volgende:\n",
    "Gebruik een simulatie om een $n$ aantal waarden van X te bepalen. Vervolgens geldt:\n",
    "De sample mean $E(X) = \\frac{X_1 + X_2 + \\cdots X_n}{n}$ en de *sample standaarddeviatie* is:\n",
    "$s(X) = \\sqrt{\\frac{((X_1 - E(X)^2 + \\cdots (X_n - E(X)^2))}{n-1}}$"
   ]
  },
  {
   "cell_type": "markdown",
   "id": "a1b9adbd-e990-4f1e-9e2b-770e294ae2c4",
   "metadata": {},
   "source": [
    "Als de kansverdeling bekend is kun je de mean en de standaarddeviatie berekenen met de volgende formules:\n",
    "$E(X) = p_1\\cdot X_1 + \\cdot p_n\\cdot X_n$ waar $X_1, \\ldots X_n$ alle mogelijke waarde voor $X$ zijn.\n",
    "\n",
    "De standaarddeviatie is dan:\n",
    "$\\sigma(X) = \\sqrt{p_1(X_1-E(X))^2 + \\cdots + p_n(X_n - E(X))^2}$"
   ]
  },
  {
   "cell_type": "markdown",
   "id": "fa572f44-5870-4055-bf3c-0cbef7f0b365",
   "metadata": {},
   "source": [
    "Voorbeeld, gooien met een dobbelsteen."
   ]
  },
  {
   "cell_type": "code",
   "execution_count": 2,
   "id": "054d48a9-894b-4f03-bcac-e1a499056317",
   "metadata": {},
   "outputs": [],
   "source": [
    "sample = np.random.randint(1,7, 10000)"
   ]
  },
  {
   "cell_type": "code",
   "execution_count": 3,
   "id": "9e0d2e00-6645-46bc-a43b-30d59ee2e5a5",
   "metadata": {},
   "outputs": [
    {
     "data": {
      "text/plain": [
       "3.5183"
      ]
     },
     "execution_count": 3,
     "metadata": {},
     "output_type": "execute_result"
    }
   ],
   "source": [
    "sample_mean = np.sum(sample)/len(sample)\n",
    "sample_mean"
   ]
  },
  {
   "cell_type": "code",
   "execution_count": 4,
   "id": "eed9b196-5218-4809-a299-c9c553aa6cad",
   "metadata": {},
   "outputs": [
    {
     "data": {
      "text/plain": [
       "1.7141642120562595"
      ]
     },
     "execution_count": 4,
     "metadata": {},
     "output_type": "execute_result"
    }
   ],
   "source": [
    "np.sqrt(sum((sample - sample_mean)**2)/(len(sample)-1))"
   ]
  },
  {
   "cell_type": "code",
   "execution_count": 5,
   "id": "d0248571-9ae8-49e8-b920-a8f940c41ca1",
   "metadata": {},
   "outputs": [
    {
     "data": {
      "text/plain": [
       "1.707825127659933"
      ]
     },
     "execution_count": 5,
     "metadata": {},
     "output_type": "execute_result"
    }
   ],
   "source": [
    "np.sqrt(np.sum(1/6*(np.arange(1,7) - 3.5)**2))"
   ]
  },
  {
   "cell_type": "markdown",
   "id": "6f4c7c79-7fdc-4ced-b8e0-7c9514c21b67",
   "metadata": {},
   "source": [
    "Nu jullie met math oefenopdracht - sd discrete verdeling"
   ]
  },
  {
   "cell_type": "code",
   "execution_count": 6,
   "id": "58bd0e5a-a47f-4727-a5ae-19a4938e869d",
   "metadata": {},
   "outputs": [],
   "source": [
    "points = np.array([0,25,50,100])\n",
    "probs = np.array([0.5,0.25,0.17,0.08])"
   ]
  },
  {
   "cell_type": "code",
   "execution_count": 7,
   "id": "9f03fbd2-cf2e-4921-a8ba-8bf5f3753d9a",
   "metadata": {},
   "outputs": [],
   "source": [
    "sample = np.random.choice(points, p = probs, size = 1000)"
   ]
  },
  {
   "cell_type": "code",
   "execution_count": 8,
   "id": "1a6ffbd9-2748-43e4-8ac2-b55e26cd07b2",
   "metadata": {},
   "outputs": [
    {
     "data": {
      "text/plain": [
       "22.2"
      ]
     },
     "execution_count": 8,
     "metadata": {},
     "output_type": "execute_result"
    }
   ],
   "source": [
    "sample_mean = np.mean(sample)\n",
    "sample_mean"
   ]
  },
  {
   "cell_type": "code",
   "execution_count": 9,
   "id": "7e9d4004-a1ea-4cfb-a8d0-244e0957a793",
   "metadata": {},
   "outputs": [],
   "source": [
    "#expected value\n",
    "ev = np.sum(points*probs)"
   ]
  },
  {
   "cell_type": "code",
   "execution_count": 10,
   "id": "0710c684-ca12-444f-8c68-cc6d1fc16c6c",
   "metadata": {},
   "outputs": [
    {
     "data": {
      "text/plain": [
       "28.003467538756592"
      ]
     },
     "execution_count": 10,
     "metadata": {},
     "output_type": "execute_result"
    }
   ],
   "source": [
    "#sample sd\n",
    "np.sqrt(np.sum((sample-sample_mean)**2)/(len(sample)-1))"
   ]
  },
  {
   "cell_type": "code",
   "execution_count": 11,
   "id": "b3c9b576-a0d6-4c48-92c3-997fd9b5d7ff",
   "metadata": {
    "scrolled": true
   },
   "outputs": [
    {
     "data": {
      "text/plain": [
       "29.38856069970083"
      ]
     },
     "execution_count": 11,
     "metadata": {},
     "output_type": "execute_result"
    }
   ],
   "source": [
    "#real sd\n",
    "np.sqrt(np.sum(((points - ev)**2)*probs))"
   ]
  },
  {
   "cell_type": "markdown",
   "id": "518601f0-9f99-4b51-8948-d04a910bdee7",
   "metadata": {},
   "source": [
    "## Standaarddeviatie continue stochast"
   ]
  },
  {
   "cell_type": "markdown",
   "id": "167889ad-ae06-4afd-8a38-0545d03f2c2b",
   "metadata": {},
   "source": [
    "Voor een continue stochast met kansdischtheidsfunctie $p(x)$ geldt:\n",
    "$$E(X) = \\int_{-\\infty}^{\\infty} x\\cdot p(x) dx$$\n",
    "en het kwadraat van de standaarddeviatie vind je door:\n",
    "$$\\sigma^2(X) = \\int_{-\\infty}^{\\infty} p(x)(x-E(X))^2 dx$$"
   ]
  },
  {
   "cell_type": "markdown",
   "id": "af6d6d98-8e89-4418-a4ea-5eac4b6d2728",
   "metadata": {},
   "source": [
    "Voorbeeld met de lengte van europeanen:"
   ]
  },
  {
   "cell_type": "markdown",
   "id": "57bbc0fe-c5f1-45f1-a15d-af659c329670",
   "metadata": {},
   "source": [
    "$$p(x) = \\frac{1}{62.66} \\cdot e^{-\\frac{1}{2}(\\frac{x-175}{25})^2}$$"
   ]
  },
  {
   "cell_type": "code",
   "execution_count": 12,
   "id": "7b9122d2-cf03-4baa-91e3-ebd7a6497418",
   "metadata": {},
   "outputs": [],
   "source": [
    "# sd continue stochast a\n",
    "from typing import Callable\n",
    "\n",
    "def get_integral_between(func: Callable[[float], float], x1: float, x2: float, delta: float = 0.001) -> float:\n",
    "    x = x1\n",
    "    integral = 0\n",
    "    while x < x2:\n",
    "        integral += (func(x) + func(x + delta)) / 2 * delta\n",
    "        x += delta\n",
    "    return integral"
   ]
  },
  {
   "cell_type": "code",
   "execution_count": 13,
   "id": "6b54ae7c-96a9-4eb2-9719-a1f2405762d2",
   "metadata": {},
   "outputs": [],
   "source": [
    "def p_length(x):\n",
    "    return 1/62.66 * np.exp(-1/2 * ((x-175)/25)**2)"
   ]
  },
  {
   "cell_type": "code",
   "execution_count": 14,
   "id": "61cb8c0c-4b4f-4299-b0ca-8dc2cc4d2d59",
   "metadata": {},
   "outputs": [],
   "source": [
    "def expected_value_length(x):\n",
    "    return x*p_length(x)"
   ]
  },
  {
   "cell_type": "code",
   "execution_count": 15,
   "id": "6a27c42e-7b94-43a0-9aea-f548af31eda7",
   "metadata": {},
   "outputs": [
    {
     "data": {
      "text/plain": [
       "175.01583810163595"
      ]
     },
     "execution_count": 15,
     "metadata": {},
     "output_type": "execute_result"
    }
   ],
   "source": [
    "ev_length = get_integral_between(expected_value_length, 50 , 300)\n",
    "ev_length"
   ]
  },
  {
   "cell_type": "code",
   "execution_count": 16,
   "id": "1f14e86a-e9f3-449a-b98b-13cfc1f81bbd",
   "metadata": {},
   "outputs": [],
   "source": [
    "#let op, we gebruiken in deze functie de evp uit de global namespaces. Dit is niet netjes, maar sneller dan wanneer we opnieuw in deze functie de verwachtingswaarde moeten uitrekenen.\n",
    "def std_length(x):\n",
    "    return p_length(x) * (x - ev_length)**2"
   ]
  },
  {
   "cell_type": "code",
   "execution_count": 17,
   "id": "baa0c281-f7ad-4dce-a32f-5b8639a6e766",
   "metadata": {},
   "outputs": [],
   "source": [
    "sd = get_integral_between(std_length, 50, 300)"
   ]
  },
  {
   "cell_type": "code",
   "execution_count": 18,
   "id": "0f32949d-b882-4021-93e6-0cf56328cb41",
   "metadata": {},
   "outputs": [
    {
     "data": {
      "text/plain": [
       "25.000950452711432"
      ]
     },
     "execution_count": 18,
     "metadata": {},
     "output_type": "execute_result"
    }
   ],
   "source": [
    "np.sqrt(sd)"
   ]
  },
  {
   "cell_type": "markdown",
   "id": "89f64e9b-bd66-4341-8fe1-520d82b1bf19",
   "metadata": {},
   "source": [
    "Nu voor de oefenopdracht continue stochast:"
   ]
  },
  {
   "cell_type": "code",
   "execution_count": 19,
   "id": "8ee16ec0-e78f-41ab-a41b-f7d86f66fe22",
   "metadata": {},
   "outputs": [],
   "source": [
    "def p_rain(x):\n",
    "    return x * np.exp(-x)"
   ]
  },
  {
   "cell_type": "code",
   "execution_count": 20,
   "id": "f84bf11f-9f56-4d3b-9c24-bf895fa4e61c",
   "metadata": {},
   "outputs": [],
   "source": [
    "def expected_value_rain(x):\n",
    "    return x * p_rain(x)"
   ]
  },
  {
   "cell_type": "code",
   "execution_count": 21,
   "id": "7d880420-7f17-4c61-aa69-a8e90ce813dd",
   "metadata": {},
   "outputs": [
    {
     "data": {
      "text/plain": [
       "1.9999990889700587"
      ]
     },
     "execution_count": 21,
     "metadata": {},
     "output_type": "execute_result"
    }
   ],
   "source": [
    "ev_rain = get_integral_between(expected_value_rain, 0, 20)\n",
    "ev_rain"
   ]
  },
  {
   "cell_type": "code",
   "execution_count": 22,
   "id": "5960c048-38f9-4919-931b-88f40aadfd27",
   "metadata": {},
   "outputs": [],
   "source": [
    "def var_rain(x):\n",
    "    return p_rain(x) * (x-ev_rain)**2"
   ]
  },
  {
   "cell_type": "code",
   "execution_count": 23,
   "id": "b7c72c20-1b76-42d8-858f-c0bbb1030ad6",
   "metadata": {},
   "outputs": [],
   "source": [
    "var = get_integral_between(var_rain, 0, 20)"
   ]
  },
  {
   "cell_type": "code",
   "execution_count": 24,
   "id": "eb6ff5e8-d664-42e6-b452-250eed211f29",
   "metadata": {},
   "outputs": [
    {
     "data": {
      "text/plain": [
       "1.414207875571789"
      ]
     },
     "execution_count": 24,
     "metadata": {},
     "output_type": "execute_result"
    }
   ],
   "source": [
    "np.sqrt(var)"
   ]
  },
  {
   "cell_type": "code",
   "execution_count": 25,
   "id": "e4ec67a8-c36a-4f1d-8438-a3a432ece880",
   "metadata": {},
   "outputs": [
    {
     "data": {
      "text/plain": [
       "[<matplotlib.lines.Line2D at 0x10ded64b0>]"
      ]
     },
     "execution_count": 25,
     "metadata": {},
     "output_type": "execute_result"
    },
    {
     "data": {
      "image/png": "[encoded data removed]",
      "text/plain": [
       "<Figure size 640x480 with 1 Axes>"
      ]
     },
     "metadata": {},
     "output_type": "display_data"
    }
   ],
   "source": [
    "#plot van de probability density function\n",
    "t = np.linspace(0, 20,1000)\n",
    "y = t*np.exp(-t)\n",
    "plt.plot(t,y)"
   ]
  },
  {
   "cell_type": "markdown",
   "id": "4b8a8a05-b455-4cbf-bea6-0aba98d184e1",
   "metadata": {},
   "source": [
    "## Binomiale verdeling"
   ]
  },
  {
   "cell_type": "markdown",
   "id": "7dc9c3a8-b14a-4002-a98c-c50107749280",
   "metadata": {},
   "source": [
    "### Binomiaalverdeling\n",
    "\n",
    "- Herhaald experiment\n",
    "- Twee mogelijke uitkomsten\n",
    "- Onafhankelijk\n",
    "- Wat is de kans op $n$ successen?\n",
    "\n",
    "Voorbeeld: We hebben een ongebalanceerde munt ($30\\%$, kop $70\\%$ munt). **Wat is de kans op $2\\times$ kop in $3$ worpen?**\n",
    "\n",
    "We noemen de kans op kop $\\color{red}{p = 0.3}$. De kans op munt is dan $\\color{skyblue}{1 - p = 1 - 0.3 = 0.7}$:\n",
    "\n",
    "<img src=\"binom-tree.png\" style=\"background: white; border: 20px solid white\" width=\"600px\" />\n",
    "\n",
    "$$$$\n",
    "\n",
    "Er zijn drie paden mogelijk voor de gewenste uitkomst:\n",
    "\n",
    "- $\\color{red}{0.3} \\times \\color{red}{0.3} \\times \\color{skyblue}{0.7}$\n",
    "- $\\color{red}{0.3} \\times \\color{skyblue}{0.7} \\times \\color{red}{0.3}$\n",
    "- $\\color{skyblue}{0.7} \\times \\color{red}{0.3} \\times \\color{red}{0.3}$\n",
    "\n",
    "Oftewel $\\color{green}{3} \\times \\color{red}{p} \\times \\color{red}{p} \\times \\color{skyblue}{(1-p)} $.\n",
    "\n",
    "De $\\color{green}{3}$ komt voort uit het aantmal mogelijke paden. Deze is te berekenen met het totaal aantal worpen (drie) en het aantal positieve resultaten waar we naar op zoek zijn (twee): $\\begin{pmatrix} 3 \\\\ 2 \\end{pmatrix} = 3$. Als we het totale aantal worpen $\\color{darkcyan}{n}$ noemen en het aantal positieve resultaten dat we zoeken $\\color{magenta}{k}$ dan krijgen we de volgende formule:\n",
    "\n",
    "$P(X={\\color{magenta} k}) = \\begin{pmatrix} {\\color{darkcyan} n} \\\\ { \\color{magenta} k} \\end{pmatrix} { \\color{red} p}^{\\color{magenta} k} { \\color{skyblue} (1-p)}^{{\\color{darkcyan} n}-{\\color{magenta} k}}$\n",
    "\n",
    "**Wat is de kans op $4\\times$ kop in $10$ worpen?**"
   ]
  },
  {
   "cell_type": "code",
   "execution_count": 26,
   "id": "4176a6fe-a161-4c52-a0d6-4a56c8e7b27a",
   "metadata": {},
   "outputs": [
    {
     "data": {
      "text/plain": [
       "0.2001209489999999"
      ]
     },
     "execution_count": 26,
     "metadata": {},
     "output_type": "execute_result"
    }
   ],
   "source": [
    "math.comb(10,4) * 0.3**4*0.7**6"
   ]
  },
  {
   "cell_type": "markdown",
   "id": "0afba380-616d-4eb6-b58f-5188403017e2",
   "metadata": {},
   "source": [
    "Simulatie:"
   ]
  },
  {
   "cell_type": "code",
   "execution_count": 27,
   "id": "9656ed81-4f67-4ba5-af07-252e1d6f8f54",
   "metadata": {},
   "outputs": [
    {
     "data": {
      "text/plain": [
       "3"
      ]
     },
     "execution_count": 27,
     "metadata": {},
     "output_type": "execute_result"
    }
   ],
   "source": [
    "sum(np.random.choice([1, 0], p = [0.3, 0.7], size=10))"
   ]
  },
  {
   "cell_type": "code",
   "execution_count": 28,
   "id": "5b412b82-7037-4530-a005-f868fa921282",
   "metadata": {},
   "outputs": [
    {
     "data": {
      "image/png": "[encoded data removed]",
      "text/plain": [
       "<Figure size 640x480 with 1 Axes>"
      ]
     },
     "metadata": {},
     "output_type": "display_data"
    }
   ],
   "source": [
    "def experiment():\n",
    "    return sum(np.random.choice([1, 0], p = [0.3, 0.7], size=10))\n",
    "    \n",
    "simulation = [experiment() for _ in range(10000)]\n",
    "\n",
    "results = plt.hist(simulation, range(11))"
   ]
  },
  {
   "cell_type": "code",
   "execution_count": 29,
   "id": "1b91a9fc-1cc8-445e-9434-258402362453",
   "metadata": {},
   "outputs": [
    {
     "data": {
      "text/plain": [
       "(array([2.430e+02, 1.208e+03, 2.337e+03, 2.646e+03, 2.063e+03, 1.018e+03,\n",
       "        3.630e+02, 1.070e+02, 1.400e+01, 1.000e+00]),\n",
       " array([ 0.,  1.,  2.,  3.,  4.,  5.,  6.,  7.,  8.,  9., 10.]),\n",
       " <BarContainer object of 10 artists>)"
      ]
     },
     "execution_count": 29,
     "metadata": {},
     "output_type": "execute_result"
    }
   ],
   "source": [
    "results"
   ]
  },
  {
   "cell_type": "code",
   "execution_count": 30,
   "id": "1531912e-e43e-4bd2-b172-90f3bf95ee42",
   "metadata": {},
   "outputs": [
    {
     "data": {
      "text/plain": [
       "0.2063"
      ]
     },
     "execution_count": 30,
     "metadata": {},
     "output_type": "execute_result"
    }
   ],
   "source": [
    "results[0][4]/10000"
   ]
  },
  {
   "cell_type": "markdown",
   "id": "de6c3c9c-8846-4c62-a834-7e5821f168e6",
   "metadata": {},
   "source": [
    "Exacte berekening:"
   ]
  },
  {
   "cell_type": "code",
   "execution_count": 31,
   "id": "b71d7a8d-5248-451b-825f-657440082794",
   "metadata": {},
   "outputs": [
    {
     "data": {
      "text/plain": [
       "0.2001209489999999"
      ]
     },
     "execution_count": 31,
     "metadata": {},
     "output_type": "execute_result"
    }
   ],
   "source": [
    "import math\n",
    "math.factorial(10)/(math.factorial(6)*math.factorial(4))*0.3**4*0.7**6"
   ]
  },
  {
   "cell_type": "markdown",
   "id": "06b4db72-6299-4575-ad38-3247d9e92c70",
   "metadata": {},
   "source": [
    "Maak nu de opdrachten:\n",
    " - binomiale kansverdeling (met de hand en/of met een simulatie)\n",
    " - machine onderhoud 2\n",
    " - examenstress"
   ]
  },
  {
   "cell_type": "markdown",
   "id": "d5c557d4-581e-482c-a05e-ce1a858bf0cc",
   "metadata": {},
   "source": [
    "## Machine onderhoud\n",
    "\n",
    "Hieronder staat de uitwerking van de machine onderhoud opdracht. Maak deze eerst zelf voordat je de uitwerking bekijkt."
   ]
  },
  {
   "cell_type": "code",
   "execution_count": null,
   "id": "93858fae-70c6-48cc-8275-4335780d86f4",
   "metadata": {},
   "outputs": [],
   "source": []
  },
  {
   "cell_type": "code",
   "execution_count": null,
   "id": "2b23e207-fa29-42fa-9811-56bdf94c2f6a",
   "metadata": {},
   "outputs": [],
   "source": []
  },
  {
   "cell_type": "code",
   "execution_count": null,
   "id": "30457c74-cbc4-4fd8-bbc5-87d21c2dc556",
   "metadata": {},
   "outputs": [],
   "source": []
  },
  {
   "cell_type": "code",
   "execution_count": null,
   "id": "94ff1f84-d834-41b6-99c4-d09e27c27d60",
   "metadata": {},
   "outputs": [],
   "source": []
  },
  {
   "cell_type": "code",
   "execution_count": null,
   "id": "0249102d-6d74-47b3-9b76-f3879ff896b0",
   "metadata": {},
   "outputs": [],
   "source": []
  },
  {
   "cell_type": "code",
   "execution_count": 32,
   "id": "fde8bc9a-5348-405a-9d53-3093d0c548e4",
   "metadata": {},
   "outputs": [],
   "source": [
    "def simulate_30_days():\n",
    "    days = 30\n",
    "    probs = [0.02, 0.05, 0.01, 0.03, 0.06]\n",
    "\n",
    "    broken_days_counter = 0\n",
    "\n",
    "    for _ in range(days):\n",
    "        broken = False\n",
    "        for item in probs:\n",
    "            broken = np.random.choice([True, False], p = [item, 1 - item])\n",
    "            if broken:\n",
    "                broken_days_counter +=1\n",
    "                break\n",
    "    return broken_days_counter"
   ]
  },
  {
   "cell_type": "code",
   "execution_count": 33,
   "id": "5861b79d-9789-4c77-99e2-e431692f48fd",
   "metadata": {},
   "outputs": [],
   "source": [
    "sample = [simulate_30_days() for _ in range(10000)]"
   ]
  },
  {
   "cell_type": "code",
   "execution_count": 34,
   "id": "192df3cb-1503-4639-8b38-13073df2eb8a",
   "metadata": {},
   "outputs": [
    {
     "data": {
      "text/plain": [
       "(array([  59.,  323.,  794., 1537., 2007., 1851., 1534.,  945.,  550.,\n",
       "         239.,  117.,   23.,   20.]),\n",
       " array([ 0.,  1.,  2.,  3.,  4.,  5.,  6.,  7.,  8.,  9., 10., 11., 12.,\n",
       "        13.]),\n",
       " <BarContainer object of 13 artists>)"
      ]
     },
     "execution_count": 34,
     "metadata": {},
     "output_type": "execute_result"
    },
    {
     "data": {
      "image/png": "[encoded data removed]",
      "text/plain": [
       "<Figure size 640x480 with 1 Axes>"
      ]
     },
     "metadata": {},
     "output_type": "display_data"
    }
   ],
   "source": [
    "plt.hist(sample, range(0,14))"
   ]
  },
  {
   "cell_type": "markdown",
   "id": "ab041e12-ddc1-4028-8c04-bb9913302dbe",
   "metadata": {},
   "source": [
    "## Geometrische kansverdeling\n",
    "<font color = \"red\"> Volgt in les 9! </font>"
   ]
  },
  {
   "cell_type": "markdown",
   "id": "ccd8ae96-6369-4f21-84f8-127fa6230cab",
   "metadata": {},
   "source": [
    "### Geometrische Verdeling\n",
    "\n",
    "- Herhaald experiment\n",
    "- Twee mogelijke uitkomsten\n",
    "- Onafhankelijk\n",
    "- Wat is de kans dat het eerste succes de $n^{de}$ poging is?\n",
    "\n",
    "Voorbeeld: Je volgt een vak dat zo moeilijk is, dat het halen van het tentamen min of meer gewoon op kans berust. Ieder jaar dat je het vak probeert, heb je een $35\\%$ kans het vak te halen. **Wat is het verwachte aantal jaren dat je dit vak zal proberen (ervan uitgaande dat je de handdoek niet in de ring gooit)?**\n",
    "\n",
    "Wederom kunnen we dit kansproces in een boom visualiseren. Ieder pad dat op een $S$ (succes) komt eindigt, je gaat tenslotte niet herkansen na een voldoende. De boom heeft de vorm van een (mogelijk eindeloze) serie $F$-en (failures), met telkens een enkele afsplitsing voor succes die daarna doodloopt.\n",
    "![geom_tree](geom-tree.png)\n",
    "\n",
    "$$$$\n",
    "\n",
    "De kans dat je het vak de eerste keer haalt is $p = 0.35$. De kans dat je twee keer nodig hebt is $0.65 \\times 0.35$: een failure en een succes. De kans het vak de derde keer te halen is $0.65 \\times 0.65 \\times 0.35$, etc. Het patroon dat duidelijk wordt is als volgt:\n",
    "\n",
    "$P(X={\\color{magenta}k}) = \\color{skyblue}{(1-p)}^{\\color{magenta}{k}-1} \\color{red}{p}$"
   ]
  },
  {
   "cell_type": "code",
   "execution_count": 35,
   "id": "6f199b39-8a25-4d52-aa2d-7c23e87b9776",
   "metadata": {},
   "outputs": [],
   "source": [
    "def experiment(p):\n",
    "    '''\n",
    "    simuleert eenmaal een geometrische verdeling\n",
    "    :param p: de kans op succes in één Bernoulli trial\n",
    "    :return: de eerste keer succes\n",
    "    '''\n",
    "    count = 0\n",
    "    while True:\n",
    "        count += 1\n",
    "        ran = np.random.random()\n",
    "        if ran < p:\n",
    "            return count"
   ]
  },
  {
   "cell_type": "code",
   "execution_count": 36,
   "id": "36960a2a-0799-4a4f-b6cf-4ccb2b73c665",
   "metadata": {},
   "outputs": [],
   "source": [
    "def simulation(n, p):\n",
    "    result = np.zeros(n)\n",
    "    for i in range(n):\n",
    "        result[i] = experiment(p)\n",
    "    return result"
   ]
  },
  {
   "cell_type": "code",
   "execution_count": 37,
   "id": "cf663419-c19c-4ec8-bee6-887c2fc54c9b",
   "metadata": {},
   "outputs": [
    {
     "data": {
      "text/plain": [
       "2.896"
      ]
     },
     "execution_count": 37,
     "metadata": {},
     "output_type": "execute_result"
    }
   ],
   "source": [
    "sample = simulation(1000, 0.35)\n",
    "np.mean(sample)"
   ]
  },
  {
   "cell_type": "markdown",
   "id": "6f6c659a-c470-4859-bc1f-6f3a9c377a61",
   "metadata": {},
   "source": [
    "Maak nu de opdracht verwachtingswaarde geometrische verdeling "
   ]
  }
 ],
 "metadata": {
  "kernelspec": {
   "display_name": "Python 3 (ipykernel)",
   "language": "python",
   "name": "python3"
  },
  "language_info": {
   "codemirror_mode": {
    "name": "ipython",
    "version": 3
   },
   "file_extension": ".py",
   "mimetype": "text/x-python",
   "name": "python",
   "nbconvert_exporter": "python",
   "pygments_lexer": "ipython3",
   "version": "3.12.4"
  }
 },
 "nbformat": 4,
 "nbformat_minor": 5
}

{
 "cells": [
  {
   "cell_type": "markdown",
   "id": "fb371500-c5cf-4c98-9897-ea6305a0be9b",
   "metadata": {},
   "source": [
    "# Les 3 - Heun"
   ]
  },
  {
   "cell_type": "code",
   "execution_count": null,
   "id": "19b68c94-6883-4520-ba44-3527c06590f3",
   "metadata": {},
   "outputs": [],
   "source": [
    "import numpy as np\n",
    "import matplotlib.pyplot as plt\n",
    "import pandas as pd\n",
    "%matplotlib inline"
   ]
  },
  {
   "cell_type": "markdown",
   "id": "053d06c7-d52a-4906-882f-21ae5402b344",
   "metadata": {},
   "source": [
    "## Forward Euler met de hand"
   ]
  },
  {
   "cell_type": "markdown",
   "id": "16c51063-7535-45c1-8776-01a143a25448",
   "metadata": {},
   "source": [
    "Hieronder staat de code om de forward-euler met de hand opdracht te controleren en visualiseren."
   ]
  },
  {
   "cell_type": "code",
   "execution_count": null,
   "id": "c25dc76a-2144-4096-95b2-f20f7f2b0775",
   "metadata": {},
   "outputs": [],
   "source": [
    "def forward_euler(h):\n",
    "    num_steps = int(2/h)\n",
    "    x = np.zeros(num_steps + 1)\n",
    "    v = np.zeros(num_steps + 1)\n",
    "    t = np.zeros(num_steps + 1)\n",
    "\n",
    "    t[0]=0\n",
    "    x[0]=0\n",
    "    v[0]=0\n",
    "    a = 6\n",
    "\n",
    "    for i in range(num_steps):\n",
    "        t[i+1] = t[i] + h\n",
    "        x[i+1] = x[i] + h*v[i]\n",
    "        v[i+1] = v[i] + h*a\n",
    "\n",
    "    return t, x, v\n",
    "        \n",
    "t1, x1, v1 = forward_euler(1)         \n",
    "    \n",
    "t0_5, x0_5, v0_5 = forward_euler(0.5) \n",
    "\n",
    "t0_1, x0_1, v0_1 = forward_euler(0.1)"
   ]
  },
  {
   "cell_type": "code",
   "execution_count": null,
   "id": "c8cafeca-b885-42cc-85a2-e575239ddb68",
   "metadata": {},
   "outputs": [],
   "source": [
    "pd.DataFrame({'t':t1, 'x':x1, 'v':v1})"
   ]
  },
  {
   "cell_type": "code",
   "execution_count": null,
   "id": "d728d505-7e7d-42ad-bc91-15e6b7c0b3b0",
   "metadata": {},
   "outputs": [],
   "source": [
    "plt.plot(t1, x1, color = 'red', label = 'h=1')\n",
    "plt.plot(t0_5, x0_5, color = 'orange', label = 'h=0.5')\n",
    "plt.plot(t0_1, x0_1, color = 'green', label = 'h=0.1')\n",
    "t = np.linspace(0,2,50)\n",
    "plt.plot(t,1/2*6*t**2, color = 'b', label = 'echte waarde')\n",
    "\n",
    "plt.xlabel('tijd in seconde (t)')\n",
    "plt.ylabel('afgelegde afstand in meters (x)')\n",
    "plt.legend(loc=\"upper left\")"
   ]
  },
  {
   "cell_type": "code",
   "execution_count": null,
   "id": "818ab67a-79ba-4352-a4d6-1edff57c0dff",
   "metadata": {
    "scrolled": true
   },
   "outputs": [],
   "source": [
    "plt.plot(t1, v1, color = 'red', label = 'h=1')\n",
    "plt.plot(t0_5, v0_5, color = 'orange', label = 'h=2')\n",
    "plt.plot(t0_1, v0_1, color = 'green', label = 'h=0.1')\n",
    "t = np.linspace(0,2,50)\n",
    "plt.plot(t,6*t, color = 'b', label = 'echte waarde')\n",
    "\n",
    "plt.xlabel('tijd in seconde (t)')\n",
    "plt.ylabel('snelheid in meter per seconde (v)')\n",
    "plt.legend(loc=\"upper left\")"
   ]
  },
  {
   "cell_type": "markdown",
   "id": "06ebd44f-cae1-4fb4-8d6b-acd807175f89",
   "metadata": {},
   "source": [
    "## Heun bij een tweede orde differentiaalvergelijking"
   ]
  },
  {
   "cell_type": "markdown",
   "id": "646fb0bc-6c02-4227-84fc-3e4dd432d260",
   "metadata": {},
   "source": [
    "Voor een tweede orde differentiaalvergelijking, waarbij de versnelling constant is, geldt:\n",
    "    $$\\frac{dx}{dt} = v(t)$$\n",
    "    $$\\frac{dv}{dt} = a$$\n",
    "met \n",
    "$$ x(0) = c_1$$\n",
    "$$ v(0) = c_2$$\n",
    "\n",
    "Gegeven stapgrootte $h$, benader bij iedere stap eerst met forward euler de snelheid op tijdstip $t +h$, oftewel $$v(t+h) = v(t) + h \\cdot a.$$ Benader dan $x(t + h)$ met:\n",
    "$$ x(t+h) = x(t) + (v(t) + v(t+h))/2)$$"
   ]
  },
  {
   "cell_type": "code",
   "execution_count": null,
   "id": "366d62f6-6d90-4cfc-92d9-019643d4932a",
   "metadata": {},
   "outputs": [],
   "source": [
    "#Heun\n",
    "def heun(h):\n",
    "    num_steps = int(2/h)\n",
    "    x = np.zeros(num_steps + 1)\n",
    "    v = np.zeros(num_steps + 1)\n",
    "    t = np.zeros(num_steps + 1)\n",
    "\n",
    "    t[0]=0\n",
    "    x[0]=0\n",
    "    v[0]=0\n",
    "    a = 6\n",
    "\n",
    "    for i in range(num_steps):\n",
    "        #bereken v_E met forward Euler\n",
    "        v_E = v[i] + h*a\n",
    "\n",
    "        \n",
    "        t[i+1] = t[i] + h\n",
    "        x[i+1] = x[i] + h*(v[i] +v_E)/2\n",
    "        v[i+1] = v[i] + h*a\n",
    "\n",
    "    return t, x, v"
   ]
  },
  {
   "cell_type": "code",
   "execution_count": null,
   "id": "64c94912-424c-4e01-9b2f-35a6b52b3a89",
   "metadata": {},
   "outputs": [],
   "source": [
    "t1, x1, v1 = heun(1)"
   ]
  },
  {
   "cell_type": "code",
   "execution_count": null,
   "id": "cd8d1254-60e8-44ae-83b4-159df8985136",
   "metadata": {},
   "outputs": [],
   "source": [
    "plt.plot(t1, x1, color = 'red', label = 'Heun met h=1')\n",
    "\n",
    "t = np.linspace(0,2,50)\n",
    "plt.plot(t,1/2*6*t**2, color = 'b', label = 'echte waarde')\n",
    "\n",
    "plt.xlabel('tijd in seconde (t)')\n",
    "plt.ylabel('snelheid in meter per seconde (v)')\n",
    "plt.legend(loc=\"upper left\")"
   ]
  },
  {
   "cell_type": "markdown",
   "id": "0b8b8096-f8a3-4dce-8d66-300055988f9d",
   "metadata": {},
   "source": [
    "## Heun bij een eerste orde differentiaalvergelijking\n",
    "<p style=\"color:red\"> Hier hadden we in de les geen tijd voor, kijk zelf of je dit snapt. </p>\n",
    "Gegeven is de differentiaalvergelijking \n",
    "$$\\frac{dy}{dt} = 1 + 0.5\\cdot y(t) \\mathrm{\\ \\ \\ met\\ \\ \\     } y(0) = 0.$$\n",
    "\n",
    "Bereken $y(3)$\n"
   ]
  },
  {
   "cell_type": "code",
   "execution_count": null,
   "id": "6c0f29ca-020a-4302-b9fa-a1e47c26ea17",
   "metadata": {},
   "outputs": [],
   "source": [
    "def heun(step_size, total_time):\n",
    "    h = step_size\n",
    "    num_steps = int(total_time/h)\n",
    "\n",
    "    y = np.zeros(num_steps + 1)\n",
    "    t = np.zeros(num_steps + 1)\n",
    "\n",
    "    for i in range(num_steps):\n",
    "        t[i+1] = t[i] + h\n",
    "\n",
    "        #forward euler\n",
    "        y_E = y[i] + h * (1 + 0.5 *y[i])\n",
    "\n",
    "        #heun\n",
    "        y[i+1] = y[i] + h * ((1 + 0.5 * y[i]) + (1 + 0.5 * y_E))/2\n",
    "\n",
    "    return t, y"
   ]
  },
  {
   "cell_type": "code",
   "execution_count": null,
   "id": "ee76df55-3360-4b6b-9571-bb0f7c077e67",
   "metadata": {},
   "outputs": [],
   "source": [
    "def forward_euler(step_size, total_time):\n",
    "    h = step_size\n",
    "    num_steps = int(total_time/h)\n",
    "\n",
    "    y = np.zeros(num_steps + 1)\n",
    "    t = np.zeros(num_steps + 1)\n",
    "\n",
    "    for step in range(num_steps):\n",
    "        t[step+1] = t[step] + h\n",
    "        y[step+1] = y[step] + h * (y[step] * 0.5 + 1)\n",
    "\n",
    "    return t, y"
   ]
  },
  {
   "cell_type": "code",
   "execution_count": null,
   "id": "1f61d72e-6a84-4cd4-820e-7fa2b63a5fc0",
   "metadata": {
    "scrolled": true
   },
   "outputs": [],
   "source": [
    "th, yh = heun(0.5, 3)\n",
    "te, ye = forward_euler(0.5, 3)\n",
    "plt.plot(th, yh, color = 'g')\n",
    "plt.plot(te, ye, color = 'r')"
   ]
  },
  {
   "cell_type": "markdown",
   "id": "e25ef77b-ff5d-4171-9ff8-bc37e8d9c00c",
   "metadata": {},
   "source": [
    "## Formule voor heun's methode bij eerste orde differentiaalvergelijking"
   ]
  },
  {
   "cell_type": "markdown",
   "id": "93f27881-178b-4821-9da5-a55c2115882d",
   "metadata": {},
   "source": [
    "Heun:\n",
    "Stel je hebt een differentiaalvergelijking $$\\frac{dy}{dt} = f(t,y)$$\n",
    "\n",
    "Bij iedere stap met stapgrootte h, bereken je: \n",
    "$$y_E = y(t) + h \\cdot f(y,t)$$\n",
    "\n",
    "$$y(t+h) = y(t) + h \\cdot (f(t, y) + f(t+h, y_E))$$"
   ]
  },
  {
   "cell_type": "markdown",
   "id": "0155b61c-fdff-4d05-b11f-62d23471d0c3",
   "metadata": {},
   "source": [
    "## Heun bij de mieren"
   ]
  },
  {
   "attachments": {},
   "cell_type": "markdown",
   "id": "39fa3850-fc0f-462c-bee6-37e360002a34",
   "metadata": {},
   "source": [
    "Je hebt een mierenplaag in je huis en je vraagt je af of je er ooit nog vanaf gaat komen. Hiervoor ga je een berekening doen en je gaat uit van de volgende aannames:\n",
    "- De kolonie bestaat momenteel uit 3000 mieren.\n",
    "- Iedere maand legt de konining 1000 eitjes - deze komen allemaal uit.\n",
    "- Het lukt je om iedere maand de helft van de mieren te doden.\n",
    "  \n",
    "Hoeveel mieren zijn er na een jaar?\n",
    " "
   ]
  },
  {
   "cell_type": "markdown",
   "id": "23aa8bbf-8b69-4f5e-841e-b0b75d624845",
   "metadata": {},
   "source": [
    "### Uitwerking\n",
    "Stel de differentiaalvergelijking (*differential equation*) op\n",
    "$$\\frac{dA(t)}{dt} = 1000 - 0.5 \\cdot A(t)$$\n",
    "$$A(0) = 3000$$\n",
    "Dus met heun bereken je bij iedere stap:\n",
    "$$A_E = A(t) + h \\cdot (1000 - 0.5 \\cdot A(t))$$\n",
    "$$A(t+h) = A(t) + h \\cdot \\frac{(1000 - 0.5 \\cdot A_E) + (1000 - 0.5 \\cdot A(t))}{2}$$\n"
   ]
  },
  {
   "cell_type": "code",
   "execution_count": null,
   "id": "e21c1fc9-61fa-40f0-9162-c8c780035fe8",
   "metadata": {},
   "outputs": [],
   "source": [
    "#jullie zelf in code!\n",
    "\n",
    "def heun_mieren(stepsize, total_time):\n",
    "    h = stepsize\n",
    "    num_steps = int(total_time / h)\n",
    "    A = np.zeros(num_steps + 1)\n",
    "    t = np.zeros(num_steps + 1)\n",
    "    A[0] = 3000\n",
    "    t[0] = 0\n",
    "\n",
    "    for i in range(num_steps):\n",
    "        t[i+1] = t[i] + h\n",
    "    \n",
    "        A_E = A[i] + h * (1000-0.5 * A[i]) #forward euler\n",
    "        A[i+1] = A[i] + h* (1000 - 0.5 * A[i] + 1000 - 0.5 * A_E)/2\n",
    "        #merk op, je berekent nu 2 keer 1000 - 0.5 A[i]. \n",
    "        #Dit kun je voor de snelheid beter in een variabele opslaan.\n",
    "\n",
    "    return t, A"
   ]
  },
  {
   "cell_type": "code",
   "execution_count": null,
   "id": "faf1a435-83de-41df-b938-4c6971c40546",
   "metadata": {},
   "outputs": [],
   "source": [
    "t, A = heun_mieren(0.1, 12)"
   ]
  },
  {
   "cell_type": "markdown",
   "id": "796a319e-30bb-489f-b8f0-d5819e360165",
   "metadata": {},
   "source": [
    "De formule voor het aantal mieren op tijdstip t kun je ook door middel van integreren vinden (valt buiten de lesstof). Die is gegeven door:\n",
    "$$ A(t) = 1000 \\cdot e^{-0.5t} + 2000$$\n",
    "We plotten hieronder de gevonden waarden met Heun en de echte grafiek:"
   ]
  },
  {
   "cell_type": "code",
   "execution_count": null,
   "id": "0c640728-70bb-4e1a-ac58-6fdf14b26d27",
   "metadata": {},
   "outputs": [],
   "source": [
    "plt.plot(t, A, color = 'blue')\n",
    "plt.plot(t, 1000*np.exp(-0.5*t) + 2000, color = 'red')"
   ]
  },
  {
   "cell_type": "markdown",
   "id": "1f04cf75-7bab-4e5d-b628-099aa5bf0288",
   "metadata": {},
   "source": [
    "## Opdracht Veerbeweging"
   ]
  },
  {
   "cell_type": "markdown",
   "id": "0ce263ad-1b1f-4e63-a1fb-db09634238f8",
   "metadata": {},
   "source": [
    "<p style=\"color:red\"> Vanaf hier zijn we er in de les niet meer aan toegekomen, deze bespreken we in de volgende les. Je kunt de uitwerkingen vast bekijken, maar probeer het eerst zelf!! </p>"
   ]
  },
  {
   "cell_type": "code",
   "execution_count": null,
   "id": "114136ae-0323-42b3-8392-0a91bba65fb2",
   "metadata": {},
   "outputs": [],
   "source": [
    "import numpy\n",
    "import matplotlib.pyplot\n",
    "k = 1 # veerconstante\n",
    "m = 2 # massa van de bal\n",
    "def forward_euler_veer(step_size, seconds):\n",
    "    h=step_size\n",
    "    num_steps = int(seconds/step_size)\n",
    "    t = numpy.zeros(num_steps+1)\n",
    "    x = numpy.zeros(num_steps+1)\n",
    "    v = numpy.zeros(num_steps+1)\n",
    "    t[0] = 0\n",
    "    x[0] = 1\n",
    "    v[0] = 0\n",
    "    \n",
    "    for step in range(num_steps):\n",
    "        t[step + 1] = t[step] + h\n",
    "        x[step + 1] = x[step] + h * v[step]\n",
    "        v[step + 1] = v[step] + h * - (k/m * x[step])\n",
    "    return(t,x,v)\n"
   ]
  },
  {
   "cell_type": "code",
   "execution_count": null,
   "id": "f2ac9e80-7947-446a-85dc-5a1714129025",
   "metadata": {},
   "outputs": [],
   "source": [
    "\n",
    "t, x, v = forward_euler_veer(0.01, 100)\n",
    "\n",
    "plt.plot(t, x)\n",
    "plt.ylabel('Height in m')\n",
    "plt.xlabel('Time in s')\n"
   ]
  },
  {
   "cell_type": "code",
   "execution_count": null,
   "id": "018dfff3-60e4-4941-920a-038f78d4c984",
   "metadata": {},
   "outputs": [],
   "source": [
    "#Hier berekenen we de echte waarde:\n",
    "timestep = 0.01\n",
    "seconds = 100\n",
    "t,x_e,v_e = forward_euler_veer(timestep, seconds)\n",
    "x = np.cos(t/np.sqrt(2))"
   ]
  },
  {
   "cell_type": "code",
   "execution_count": null,
   "id": "348c6a61-8d4b-40fb-9860-352777db92e7",
   "metadata": {},
   "outputs": [],
   "source": [
    "#plot forward euler, de echte waarden en de error\n",
    "\n",
    "plt.plot(t, x_e, label = 'forward euler')\n",
    "plt.plot(t, x, label = 'real values')\n",
    "plt.plot(t, x_e - x, label = 'error')\n",
    "plt.legend(loc = 'upper left')\n",
    "\n",
    "\n"
   ]
  },
  {
   "cell_type": "code",
   "execution_count": null,
   "id": "0ccd4e62-7bd6-4327-a166-3524fc5943de",
   "metadata": {},
   "outputs": [],
   "source": [
    "#Met heun\n",
    "import numpy\n",
    "import matplotlib.pyplot\n",
    "k = 1 # veerconstante\n",
    "m = 2 # massa van de bal\n",
    "def heun(step_size, seconds):\n",
    "    h=step_size\n",
    "    num_steps = int(seconds/step_size)\n",
    "    t = numpy.zeros(num_steps+1)\n",
    "    x = numpy.zeros(num_steps+1)\n",
    "    v = numpy.zeros(num_steps+1)\n",
    "    t[0] = 0\n",
    "    x[0] = 1\n",
    "    v[0] = 0\n",
    "\n",
    "    \n",
    "    for step in range(num_steps):\n",
    "        v_E = v[step] + h * - (k/m * x[step])\n",
    "        x_E = x[step] + h * v[step]\n",
    "        \n",
    "        t[step + 1] = t[step] + h\n",
    "        x[step + 1] = x[step] + h * (v[step] + v_E)/2\n",
    "        v[step + 1] = v[step] + h * (- k/m * x[step] + -k/m * x_E)/2\n",
    "    return(t,x,v)\n"
   ]
  },
  {
   "cell_type": "code",
   "execution_count": null,
   "id": "5468ff2b-5f7c-4ed3-8490-e5e71013b3ba",
   "metadata": {},
   "outputs": [],
   "source": [
    "t_h,x_h,v_h = heun(timestep,seconds )"
   ]
  },
  {
   "cell_type": "code",
   "execution_count": null,
   "id": "8012a6a1-f02e-41b2-b897-dc9545df7222",
   "metadata": {},
   "outputs": [],
   "source": [
    "#plot heun erbij\n",
    "\n",
    "plt.plot(t, x_e, label = 'forward euler')\n",
    "plt.plot(t, x, label = 'real values')\n",
    "plt.plot(t, x_h, label = 'heun')\n",
    "plt.plot(t, x_e - x, label = 'error fe')\n",
    "plt.plot(t, x_h - x, label = 'error heun')\n",
    "plt.legend(loc = 'upper left')\n"
   ]
  },
  {
   "cell_type": "markdown",
   "id": "ec9a187b-bf17-4c13-8459-be96b006359a",
   "metadata": {},
   "source": [
    "## Opdracht Heun voor de orbit"
   ]
  },
  {
   "cell_type": "code",
   "execution_count": null,
   "id": "a62ad12b-993b-44b2-b10b-6bf859afa5fc",
   "metadata": {},
   "outputs": [],
   "source": [
    "import math\n",
    "import numpy as np\n",
    "import matplotlib.pyplot as plt\n",
    "\n",
    "total_time = 24 * 3600 # s\n",
    "g = 9.81 # m / s2\n",
    "earth_mass = 5.97e24 # kg\n",
    "gravitational_constant = 6.67e-11 # N m2 / kg2\n",
    "radius = (gravitational_constant * earth_mass * total_time ** 2 / 4 / math.pi ** 2) ** (1/3) # m\n",
    "speed = 2.0 * math.pi * radius / total_time # m / s\n",
    "\n",
    "def acceleration(spaceship_position):\n",
    "    vector_to_earth = - spaceship_position # earth at origin\n",
    "    return gravitational_constant * earth_mass / np.linalg.norm(vector_to_earth) ** 3 * vector_to_earth\n",
    "\n",
    "\n",
    "def heuns_method(num_steps):\n",
    "    ### Old Euler Method\n",
    "    h = total_time / num_steps\n",
    "    x = np.zeros([num_steps + 1, 2]) # two-dimensional array to store results\n",
    "    v = np.zeros([num_steps + 1, 2])\n",
    "\n",
    "    x[0, 0] = radius # three o'clock position\n",
    "    v[0, 1] = speed # only upwards motion at start\n",
    "\n",
    "    for step in range(num_steps):\n",
    "        x[step + 1] = x[step] + h * v[step]\n",
    "        v[step + 1] = v[step] + h * acceleration(x[step])\n",
    "\n",
    "    error = np.linalg.norm(x[-1] - x[0]) # difference between end position and start position\n",
    "    plt.scatter(h, error, color = 'r', label = 'error forward euler')\n",
    "    # End Euler Method\n",
    "\n",
    "    ### Heun's Method\n",
    "    for step in range(num_steps):\n",
    "        initial_acceleration = acceleration(x[step])\n",
    "        x_E = x[step] + h * v[step]\n",
    "        v_E = v[step] + h*acceleration(x[step])\n",
    "        a_E = acceleration(x_E)\n",
    "\n",
    "        x[step + 1] = x[step] + h * (v[step] + v_E)/2\n",
    "        v[step + 1] = v[step] + h * (initial_acceleration + a_E)/2\n",
    "\n",
    "    error = np.linalg.norm(x[-1] - x[0])\n",
    "    plt.scatter(h, error, c = 'g', label = 'error heun')\n",
    "    # End Heun's Method\n",
    "\n",
    "\n",
    "for num_steps in [200, 500, 1000, 2000, 5000, 10000]:\n",
    "    error = heuns_method(num_steps)\n",
    "\n",
    "plt.xlim(xmin = 0.)\n",
    "plt.ylim(ymin = 0.)\n",
    "axes = plt.gca()\n",
    "axes.set_xlabel('Step size in s')\n",
    "axes.set_ylabel('Error in m')\n",
    "plt.show()"
   ]
  },
  {
   "cell_type": "markdown",
   "id": "2cf71e11-b236-4417-86ad-39bbcf723fe1",
   "metadata": {},
   "source": [
    "## Opdracht het getal e"
   ]
  },
  {
   "cell_type": "code",
   "execution_count": null,
   "id": "ae8c3bb0-58fd-410b-b06e-5955ec34ae47",
   "metadata": {},
   "outputs": [],
   "source": [
    "# forward euler\n",
    "def forward_euler_e(stepsize, total_time):\n",
    "    h = stepsize\n",
    "    num_steps = int(total_time/stepsize)\n",
    "\n",
    "    t = np.zeros(num_steps + 1)\n",
    "    u = np.zeros(num_steps + 1)\n",
    "    u[0] = 1\n",
    "\n",
    "    for i in range(num_steps):\n",
    "        t[i + 1] = t[i] + h\n",
    "        u[i + 1] = u[i] + h * u[i]\n",
    "\n",
    "    return t, u"
   ]
  },
  {
   "cell_type": "code",
   "execution_count": null,
   "id": "76dd1f98-2924-4f35-9949-a5ee11fda8e9",
   "metadata": {},
   "outputs": [],
   "source": [
    "for n in [5,10,20,100]:\n",
    "    t, u_e = forward_euler_e(1/n, 1)\n",
    "    print('De benadering van e met {} stappen forward euler is: {} \\n Dit ligt {} af van de echte waarde'.format(n, u_e[-1],np.exp(1) - u_e[-1]))"
   ]
  },
  {
   "cell_type": "code",
   "execution_count": null,
   "id": "9c2927ef-f0c7-44ec-a510-2d782b60ae95",
   "metadata": {},
   "outputs": [],
   "source": [
    "# forward euler\n",
    "def heun_e(stepsize, total_time):\n",
    "    h = stepsize\n",
    "    num_steps = int(total_time/stepsize)\n",
    "\n",
    "    t = np.zeros(num_steps + 1)\n",
    "    u = np.zeros(num_steps + 1)\n",
    "    u[0] = 1\n",
    "\n",
    "    for i in range(num_steps):\n",
    "        u_E = u[i] + h * u[i]\n",
    "        \n",
    "        t[i + 1] = t[i] + h\n",
    "        u[i + 1] = u[i] + h * (u[i] + u_E)/2\n",
    "\n",
    "    return t, u"
   ]
  },
  {
   "cell_type": "code",
   "execution_count": null,
   "id": "b04582ec-0637-4109-912b-bf59a4612959",
   "metadata": {},
   "outputs": [],
   "source": [
    "n = int(input('Geef het aantal stappen:'))\n",
    "\n",
    "t, u_h = heun_e(1/n, 1)\n",
    "t, u_e = forward_euler_e(1/n, 1)\n",
    "print('De benadering van e met {} stappen forward euler is: {} \\n Dit ligt {} af van de echte waarde'.format(n, u_e[-1],np.exp(1) - u_e[-1]))\n",
    "print('De benadering van e met {} stappen heun is: {} \\n Dit ligt {} af van de echte waarde'.format(n, u_h[-1],np.exp(1) - u_h[-1]))\n",
    "\n",
    "plt.plot(t, u_e, color = 'r', label = 'forward euler')\n",
    "plt.plot(t, u_h, color = 'orange', label = 'heun')\n",
    "plt.plot(t, np.exp(t), color = 'g', label = 'e^t')\n",
    "plt.xlabel('t')\n",
    "plt.legend(loc = 'upper left')"
   ]
  },
  {
   "cell_type": "code",
   "execution_count": null,
   "id": "53b5e9f1-1aad-4a1d-97b2-6ba5f2d1c258",
   "metadata": {
    "scrolled": true
   },
   "outputs": [],
   "source": [
    "plt.plot(t, u_e, color = 'r', label = 'forward euler')\n",
    "plt.plot(t, u_h, color = 'orange', label = 'heun')\n",
    "plt.plot(t, np.exp(t), color = 'g', label = 'e^t')\n",
    "plt.xlabel('t')\n",
    "plt.legend(loc = 'upper left')"
   ]
  },
  {
   "cell_type": "code",
   "execution_count": null,
   "id": "c84d43c4-d6b7-4c44-af8a-91c1a8083821",
   "metadata": {},
   "outputs": [],
   "source": [
    "num_steps = [5,10,20,40,50,60,100,1000]\n",
    "error_euler = np.zeros(len(num_steps))\n",
    "error_heun = np.zeros(len(num_steps))\n",
    "\n",
    "for i in range(len(num_steps)):\n",
    "    t, u_e = forward_euler_e(1/num_steps[i], 1)\n",
    "    t, u_h = heun_e(1/num_steps[i], 1)\n",
    "    error_euler[i] = np.exp(1) - u_e[-1] \n",
    "    error_heun[i] = np.exp(1) - u_h[-1] "
   ]
  },
  {
   "cell_type": "code",
   "execution_count": null,
   "id": "452e5f55-4770-40fe-b8c0-c14b49766654",
   "metadata": {},
   "outputs": [],
   "source": [
    "plt.scatter(num_steps, error_euler, color = 'r')\n",
    "plt.scatter(num_steps, error_heun, color = 'g')"
   ]
  }
 ],
 "metadata": {
  "kernelspec": {
   "display_name": "Python 3 (ipykernel)",
   "language": "python",
   "name": "python3"
  },
  "language_info": {
   "codemirror_mode": {
    "name": "ipython",
    "version": 3
   },
   "file_extension": ".py",
   "mimetype": "text/x-python",
   "name": "python",
   "nbconvert_exporter": "python",
   "pygments_lexer": "ipython3",
   "version": "3.12.4"
  }
 },
 "nbformat": 4,
 "nbformat_minor": 5
}

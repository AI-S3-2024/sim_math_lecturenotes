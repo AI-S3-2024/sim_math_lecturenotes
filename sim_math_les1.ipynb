{
 "cells": [
  {
   "cell_type": "markdown",
   "id": "fb791658-d4ad-46d2-b1af-a355bdfc7c03",
   "metadata": {},
   "source": [
    "# Simulation les 1 - forward Euler"
   ]
  },
  {
   "cell_type": "code",
   "execution_count": null,
   "id": "92737c47-27c4-4617-b00b-5814fbb18673",
   "metadata": {},
   "outputs": [],
   "source": [
    "import matplotlib.pyplot as plt\n",
    "%matplotlib inline\n",
    "import numpy as np\n",
    "np.set_printoptions(suppress=True)"
   ]
  },
  {
   "attachments": {},
   "cell_type": "markdown",
   "id": "20c96e52-d8c5-4b61-b973-fe805c16c7ed",
   "metadata": {},
   "source": [
    "## Opdracht 1 mieren\n",
    "\n",
    "Je hebt een mierenplaag in je huis en je vraagt je af of je er ooit nog vanaf gaat komen. Hiervoor ga je een berekening doen en je gaat uit van de volgende aannames:\n",
    "- De kolonie bestaat momenteel uit 3000 mieren.\n",
    "- Iedere maand legt de konining 1000 eitjes - deze komen allemaal uit.\n",
    "- Het lukt je om iedere maand de helft van de mieren te doden.\n",
    "  \n",
    "Kom je ooit nog van de mieren af?\n",
    " "
   ]
  },
  {
   "cell_type": "markdown",
   "id": "10a46914-071b-4cc2-99bd-a0dc45b09bda",
   "metadata": {},
   "source": [
    "### Uitwerking\n",
    "Stel de differentiaalvergelijking (*differential equation*) op\n",
    "$$\\frac{dA(t)}{dt} = 1000 - 0.5 \\cdot A(t)$$\n",
    "$$A(0) = 3000$$\n",
    "Dus:\n",
    "$$A(t+1) = A(t) + 1000 - 0.5 \\cdot A(t)$$\n",
    "\n",
    "Of als je de helft van de mieren dood nadat de eitjes uitkomen:\n",
    "$$\\frac{dA}{dt} = 0.5\\cdot(1000+A(t))$$"
   ]
  },
  {
   "cell_type": "code",
   "execution_count": null,
   "id": "c63e8a9c-9530-40f1-97f2-d445f448580d",
   "metadata": {},
   "outputs": [],
   "source": [
    "num_steps = 12\n",
    "mieren = np.zeros(num_steps + 1)\n",
    "t = np.zeros(num_steps + 1)\n",
    "mieren[0] = 3000\n",
    "t[0] = 0\n",
    "\n",
    "for step in range(num_steps):\n",
    "    t[step+1] = t[step] + 1\n",
    "    mieren[step+1] = mieren[step] + 1000 - 0.5 * mieren[step]\n",
    "\n",
    "plt.plot(t, mieren)"
   ]
  },
  {
   "cell_type": "code",
   "execution_count": null,
   "id": "2588cb0b-e84e-4d25-96a8-a8351bc782fe",
   "metadata": {},
   "outputs": [],
   "source": [
    "mieren[-1]"
   ]
  },
  {
   "cell_type": "code",
   "execution_count": null,
   "id": "d3376eb1-8d26-48d5-80fc-fe1e7730593b",
   "metadata": {},
   "outputs": [],
   "source": [
    "h = 0.01\n",
    "num_steps = int(12/h)\n",
    "mieren = np.zeros(num_steps + 1)\n",
    "t = np.zeros(num_steps + 1)\n",
    "mieren[0] = 3000\n",
    "t[0] = 0\n",
    "\n",
    "for step in range(num_steps):\n",
    "    t[step+1] = t[step] + 1\n",
    "    mieren[step+1] = mieren[step] + h*(1000 - 0.5 * mieren[step])\n",
    "\n",
    "plt.plot(t, mieren)"
   ]
  },
  {
   "cell_type": "code",
   "execution_count": null,
   "id": "b178440c-d036-4d60-8429-0533956448ab",
   "metadata": {},
   "outputs": [],
   "source": [
    "mieren[-1]"
   ]
  },
  {
   "cell_type": "markdown",
   "id": "0fe5094d-5acf-4fb7-981c-a38a5c68078c",
   "metadata": {},
   "source": [
    "## Opdracht 2\n",
    "Gegeven is de differentiaalvergelijking \n",
    "$$\\frac{dy}{dt} = 1 + 0.5\\cdot y(t) $$\n",
    "met $$y(0) = 0.$$\n",
    "\n",
    "Bereken $y(3)$\n"
   ]
  },
  {
   "cell_type": "code",
   "execution_count": null,
   "id": "b472b5e1-a1a3-49f4-8abd-a0b63b2d5385",
   "metadata": {},
   "outputs": [],
   "source": [
    "h = 1\n",
    "num_steps = int(3/h)\n",
    "\n",
    "y = np.zeros(num_steps + 1)\n",
    "t = np.zeros(num_steps + 1)\n",
    "y[0] = 0\n",
    "t[0] = 0 \n",
    "\n",
    "for step in range(num_steps):\n",
    "    t[step+1] = t[step] + h\n",
    "    y[step+1] = y[step] + h*( y[step] * 0.5 + 1 )\n",
    "\n",
    "plt.plot(t,y)"
   ]
  },
  {
   "cell_type": "code",
   "execution_count": null,
   "id": "cf7b6163-75d5-4b7b-9e53-7701ba2e98d5",
   "metadata": {},
   "outputs": [],
   "source": [
    "# Bij een te grote h is deze erg onnauwkeurig\n",
    "y[-1]"
   ]
  },
  {
   "cell_type": "code",
   "execution_count": null,
   "id": "595c9d57-36b2-4594-8e87-9108b95266df",
   "metadata": {
    "scrolled": true
   },
   "outputs": [],
   "source": [
    "h = 0.01 #kies een kleinere stapgrootte\n",
    "num_steps = int(3/h)\n",
    "y = np.zeros(num_steps + 1)\n",
    "t = np.zeros(num_steps + 1)\n",
    "y[0] = 0\n",
    "\n",
    "for step in range(num_steps):\n",
    "    t[step + 1] = t[step] + h\n",
    "    y[step + 1] = y[step] + h * (1 + 0.5 * y[step])"
   ]
  },
  {
   "cell_type": "code",
   "execution_count": null,
   "id": "850c70d9-7d87-486f-addf-b0db7bad100a",
   "metadata": {
    "scrolled": true
   },
   "outputs": [],
   "source": [
    "plt.plot(t,y)\n",
    "plt.xlabel('t')\n",
    "plt.ylabel('y')\n",
    "plt.grid(True, which = 'both')"
   ]
  },
  {
   "cell_type": "code",
   "execution_count": null,
   "id": "0c331ba5-89b5-44dd-a0b1-b4d0a480ddbf",
   "metadata": {},
   "outputs": [],
   "source": [
    "y[-1]"
   ]
  },
  {
   "cell_type": "markdown",
   "id": "a79728f3-ec19-469f-b8a2-65964d91e022",
   "metadata": {},
   "source": [
    "## Opdracht 3 - Differentiaalvergelijking met tijd expliciet"
   ]
  },
  {
   "cell_type": "markdown",
   "id": "8fc5a1eb-75e1-4e1b-a4c8-081c0bf12086",
   "metadata": {},
   "source": [
    "<p style='color:red'> Deze hebben we in de les niet behandelt, kijk zelf of je dit begrijpt. </p>"
   ]
  },
  {
   "cell_type": "markdown",
   "id": "bcdf49b7-3bad-44f7-bf9f-b374f91156d2",
   "metadata": {},
   "source": [
    "Schrijf een python script waarmee je de waarde van y berekend op $t = 4$ bij de volgende differentiaalvergelijking en beginvoorwaarde: \n",
    "\n",
    "$$\\frac{dy(t)}{dt}=1+t-y(t)$$\n",
    "\n",
    "Met beginwaarde: $y(1)=2$"
   ]
  },
  {
   "cell_type": "markdown",
   "id": "6c872ccf-b050-4370-93bd-c539b8374311",
   "metadata": {},
   "source": [
    "Forward Euler methode geeft:\n",
    "$$y(t+h) = y(t)  + h \\cdot (1 + t - y(t))$$"
   ]
  },
  {
   "cell_type": "code",
   "execution_count": null,
   "id": "190ac4ae-3c15-4402-bd78-cf66b0b5ba55",
   "metadata": {},
   "outputs": [],
   "source": [
    "h = 0.01\n",
    "num_steps = int(3/h)\n",
    "\n",
    "t = np.zeros(num_steps+1)\n",
    "y = np.zeros(num_steps+1)\n",
    "t[0] = 1\n",
    "y[0] = 2\n",
    "\n",
    "for step in range(num_steps):\n",
    "    t[step + 1] = t[step] + h\n",
    "    y[step + 1] = y[step] + h*(1 + t[step] - y[step])\n",
    "\n",
    "plt.plot(t,y)\n",
    "plt.xlabel('t')\n",
    "plt.ylabel('y')\n",
    "plt.grid(True, which = 'both')"
   ]
  },
  {
   "cell_type": "markdown",
   "id": "5d374fd6-809b-4942-9650-24ba178d97d7",
   "metadata": {},
   "source": [
    "## Opdracht 4 - differentiaalvergelijking in 2D"
   ]
  },
  {
   "cell_type": "markdown",
   "id": "fd0a8711-2ee5-499c-aafe-f6c916707301",
   "metadata": {},
   "source": [
    "Schrijf Python code die de volgende differentiaalvergelijkingen simuleert:\n",
    "\n",
    "$$\\frac{dx}{dt} = \\sin{(x(t))} - y(t)$$\n",
    "$$\\frac{dy}{dt} = x(t) + \\exp{(-y(t))}$$\n",
    "\n",
    "- Ga uit van een startpunt $(1, -1)$, dus $x(0) = 1$ en $y(0) = -1 $, en een stapgrootte $h=0.1$. Simuleer $20$ tijdseenheden (dus $\\frac{20}{0.1} = 200$ stappen)\n",
    "\n",
    "- Tips:\n",
    "  - In het vorige voorbeeld hielden we $t$ bij om $x$ tegen $t$ te plotten\n",
    "  - Hier kun je $x$ en $y$ op de beide assen zetten en is $t$ niet zichtbaar"
   ]
  },
  {
   "cell_type": "markdown",
   "id": "49d66364-2a50-46cb-80a3-ee15ee58e81b",
   "metadata": {},
   "source": [
    "Formule voor Forward Euler:\n",
    "$$ x(t + h) = x(t) + h\\cdot (\\sin(x(t))- y(t))$$\n",
    "$$ y(t + h) = y(t) + h \\cdot (x(t) + \\exp(-y(t))$$"
   ]
  },
  {
   "cell_type": "code",
   "execution_count": null,
   "id": "dfb638bb-8641-44e0-9e15-48f26ed99195",
   "metadata": {},
   "outputs": [],
   "source": [
    "num_steps = 200\n",
    "h = 0.1\n",
    "\n",
    "t = np.zeros(num_steps + 1)\n",
    "x = np.zeros(num_steps + 1)\n",
    "y = np.zeros(num_steps + 1)\n",
    "x[0] = 1\n",
    "y[0] = -1\n",
    "\n",
    "for step in range(num_steps):\n",
    "    x[step + 1] = x[step] + h * (np.sin(x[step])-y[step])\n",
    "    y[step +1 ] = y[step] + h * (x[step] + np.exp(-y[step]))\n",
    "\n",
    "plt.plot(x,y)"
   ]
  },
  {
   "cell_type": "code",
   "execution_count": null,
   "id": "86b29add-8cb9-4d5d-ad11-373b929dc9dc",
   "metadata": {},
   "outputs": [],
   "source": [
    "STREAM, QUIVER = 1, 2\n",
    "\n",
    "plot_decor = 1\n",
    "\n",
    "x_grid = np.arange(-3.5, 2.1, 0.5)\n",
    "y_grid = np.arange(-1.5, 3.1, 0.5)\n",
    "X,Y = np.meshgrid(x_grid, y_grid)\n",
    "Ex = np.sin(X) - Y\n",
    "Ey = X + np.exp(-Y)\n",
    "\n",
    "if plot_decor == QUIVER:\n",
    "    plt.quiver(X,Y,Ex,Ey, linewidth=None, color='#cccccc')\n",
    "elif plot_decor == STREAM:\n",
    "    plt.streamplot(X, Y, Ex, Ey, density=1.0, linewidth=None, color='#ee88ff')\n",
    "\n",
    "\n",
    "plt.plot(x,y)\n",
    "plt.show()"
   ]
  },
  {
   "cell_type": "markdown",
   "id": "6c91a54c-60ed-4823-a041-b5ffa5963584",
   "metadata": {},
   "source": [
    "## Opdracht 5 - chemisch vat"
   ]
  },
  {
   "cell_type": "markdown",
   "id": "3bee651f-a4d4-41e2-975b-838fbd41c9e1",
   "metadata": {},
   "source": [
    "In een groot vat is 8 kg chemische stof opgelost in water. Per uur wordt 15% van de aanwezige chemische stof weggespoeld, terwijl er per uur 5 kg van deze stof wordt toegevoegd.\n",
    "\n",
    "Stel de differentiaalvergelijking op en pas Forward Euler toe.\n",
    "\n",
    "Hoeveel kg van de chemische stof is na 10 uur aanwezig in het vat?\n",
    "\n",
    "Plot de tijdgrafiek. Treedt er verzadiging op?\n",
    "\n",
    "Simuleer wat er gebeurt als je meer of minder toevoegt of meer / minder laat wegspoelen."
   ]
  },
  {
   "cell_type": "markdown",
   "id": "5b931428-d869-482f-9d99-f215f7e62449",
   "metadata": {},
   "source": [
    "Differentiaal vergelijking:\n",
    "$$ \\frac{dy}{dt} = 5 - 0.15 \\cdot y$$\n",
    "\n",
    "Forward Euler:\n",
    "$$ y(t + h) = y(t) + h \\cdot (5-0.15 y(t))$$"
   ]
  },
  {
   "cell_type": "code",
   "execution_count": null,
   "id": "cb9cd9b5-8594-41df-93a6-2811d111b65c",
   "metadata": {
    "scrolled": true
   },
   "outputs": [],
   "source": [
    "h = 0.1\n",
    "num_steps = int(10/h)\n",
    "\n",
    "t = np.zeros(num_steps+1)\n",
    "y = np.zeros(num_steps+1)\n",
    "y[0] = 8\n",
    "\n",
    "for step in range(num_steps):\n",
    "    t[step + 1] = t[step] + h\n",
    "    y[step + 1] = y[step] + h*(5 - 0.15 *y[step])\n",
    "\n",
    "plt.plot(t,y)\n",
    "plt.xlabel('tijd in uren')\n",
    "plt.ylabel('hoeveelheid chemische stof')\n",
    "plt.grid(True, which = 'both')"
   ]
  },
  {
   "cell_type": "markdown",
   "id": "fb101ba4-bcfb-4969-b497-4dbd0ac65161",
   "metadata": {},
   "source": [
    "# Vooruitblik les 2 - 2e orde differentiaal vergelijkingen\n",
    "*second order differential equations*"
   ]
  },
  {
   "cell_type": "markdown",
   "id": "222b721d-a2c5-43c7-950d-1f2e962a1235",
   "metadata": {},
   "source": [
    "## Voorbeeld 2e orde differentiaal vergelijking: f1 auto"
   ]
  },
  {
   "cell_type": "markdown",
   "id": "15bb39fd-7442-4a69-927a-dafcaca039c8",
   "metadata": {},
   "source": [
    "Een formule 1 auto start en blijft met een constante versnelling van 20 m/s^2 rijden. Hoeveel km heeft hij afgelegd na 5 seconde? Hoe hard rijdt de auto dan?"
   ]
  },
  {
   "cell_type": "markdown",
   "id": "788ba87c-a5da-498f-8065-ff8e4c1f6c19",
   "metadata": {},
   "source": [
    "Definieer:\n",
    "- $x(t)$  is de afgelegde afstand in meters (*distance*)\n",
    "- $v(t)$ is de snelheid in m/s (*velocity*)\n",
    "- $a(t)$ is de versnelling in m/s^2 (*acceleration*)"
   ]
  },
  {
   "cell_type": "markdown",
   "id": "74b3d6ec-d12e-4f52-9376-6da54b9d4fe2",
   "metadata": {},
   "source": [
    "Dan is gegeven:\n",
    "- $x(0) = 0$ (afstand in meters, (*distance*))\n",
    "- $v(0) = 0$ (snelheid in m/s, *velocity*)\n",
    "- $a(t) = 20$ (versnelling in m/2^2, *acceleration*)\n",
    "\n",
    "Opdracht: bereken $x(5)$"
   ]
  },
  {
   "cell_type": "markdown",
   "id": "afbfd1b6-db1b-4bd5-aa7e-62e2cc20db7e",
   "metadata": {},
   "source": [
    "Voor deze tweede orde differentiaalvergelijking geldt:\n",
    "    $$\\frac{dx}{dt} = v(t)$$\n",
    "    $$\\frac{dv}{dt} = a(t) = 20$$"
   ]
  },
  {
   "cell_type": "markdown",
   "id": "67da5efa-0a24-4fcd-a648-31ca799cbc1e",
   "metadata": {},
   "source": [
    "Definieer een stapgrootte $h$, en pas Forward Euler toe:\n",
    "    $$x(t + h) = x(t) + h*v(t)$$\n",
    "    $$v(t + h) = v(t) + h*a(t)$$\n",
    "\n",
    "Dit lijkt meer op hoe je het programmeert (mocht je dit duidelijker vinden - anders mag je het negeren):\n",
    "$$x((n+1)\\cdot h) = x(n\\cdot h) + h \\cdot v(n \\cdot h)$$\n",
    "$$v((n+1)\\cdot h) = v(n\\cdot h) + h \\cdot v(n \\cdot h)$$"
   ]
  },
  {
   "cell_type": "code",
   "execution_count": null,
   "id": "69824de0-6f83-4872-9fea-a892b98ef996",
   "metadata": {},
   "outputs": [],
   "source": [
    "h = 0.01 #stapgrootte\n",
    "num_steps = int(5/h) #we bekijken 5 seconden\n",
    "a = 20\n",
    "\n",
    "x = np.zeros(num_steps + 1)\n",
    "v = np.zeros(num_steps + 1)\n",
    "t = np.zeros(num_steps + 1)\n",
    "x[0] = 0\n",
    "v[0] = 0\n",
    "t[0] = 0\n",
    "\n",
    "for step in range(num_steps):\n",
    "    t[step + 1] = t[step] + h\n",
    "    x[step + 1] = x[step] + h*v[step]\n",
    "    v[step + 1] = v[step] + h*20\n",
    "    "
   ]
  },
  {
   "cell_type": "code",
   "execution_count": null,
   "id": "80e1e19c-fec5-49ff-b181-75173300d20b",
   "metadata": {},
   "outputs": [],
   "source": [
    "plt.plot(t,x)\n",
    "plt.xlabel('tijd in seconde')\n",
    "plt.ylabel('afgelegde afstand in meters')"
   ]
  },
  {
   "cell_type": "code",
   "execution_count": null,
   "id": "8f4fdf5a-587a-485b-b2d8-bc2eb24f9486",
   "metadata": {},
   "outputs": [],
   "source": [
    "x[-1]"
   ]
  }
 ],
 "metadata": {
  "kernelspec": {
   "display_name": "Python 3 (ipykernel)",
   "language": "python",
   "name": "python3"
  },
  "language_info": {
   "codemirror_mode": {
    "name": "ipython",
    "version": 3
   },
   "file_extension": ".py",
   "mimetype": "text/x-python",
   "name": "python",
   "nbconvert_exporter": "python",
   "pygments_lexer": "ipython3",
   "version": "3.12.4"
  }
 },
 "nbformat": 4,
 "nbformat_minor": 5
}

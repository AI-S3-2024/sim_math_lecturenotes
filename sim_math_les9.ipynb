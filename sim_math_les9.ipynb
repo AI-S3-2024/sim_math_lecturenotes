{
 "cells": [
  {
   "cell_type": "code",
   "execution_count": 1,
   "id": "409785e0-428e-4706-9616-51d64f6023bd",
   "metadata": {},
   "outputs": [],
   "source": [
    "import numpy as np\n",
    "import matplotlib.pyplot as plt\n",
    "import math"
   ]
  },
  {
   "cell_type": "markdown",
   "id": "f9264e82-f127-49a2-b489-51144e7b3458",
   "metadata": {},
   "source": [
    "## Herhaling binomiale verdeling"
   ]
  },
  {
   "cell_type": "markdown",
   "id": "3f306fee-54e0-4a19-a716-f9a293bae567",
   "metadata": {},
   "source": [
    "Herhaling vorige les: wat is de kans op 2 keer succes bij een binomiale verdeling met n = 20 en p = 0.2?"
   ]
  },
  {
   "cell_type": "code",
   "execution_count": 21,
   "id": "39751036-50e1-4a72-9cf4-14656487edcb",
   "metadata": {},
   "outputs": [],
   "source": [
    "def bernouilli(p):\n",
    "    prob = np.random.random()\n",
    "    if prob <= p:\n",
    "        return 1\n",
    "    else: \n",
    "        return 0"
   ]
  },
  {
   "cell_type": "code",
   "execution_count": 22,
   "id": "5f25fc13-612b-4bdc-8a0c-e60370188c58",
   "metadata": {},
   "outputs": [],
   "source": [
    "def binomiaal_experiment(p, n):\n",
    "    return sum([bernouilli(p) for _ in range(n)])"
   ]
  },
  {
   "cell_type": "code",
   "execution_count": 26,
   "id": "b7446877-948e-4a02-ad47-7f7c8eb4560a",
   "metadata": {},
   "outputs": [],
   "source": [
    "sample = np.array([binomiaal_experiment(0.2, 20) for _ in range(1000)])"
   ]
  },
  {
   "cell_type": "code",
   "execution_count": 27,
   "id": "129b18e0-1346-4240-a753-8ebea6dbca92",
   "metadata": {},
   "outputs": [
    {
     "data": {
      "text/plain": [
       "0.136"
      ]
     },
     "execution_count": 27,
     "metadata": {},
     "output_type": "execute_result"
    }
   ],
   "source": [
    "sum(sample == 2)/1000"
   ]
  },
  {
   "cell_type": "code",
   "execution_count": 29,
   "id": "69d2e7ef-a7f5-4793-a9da-7778eaf0ffe6",
   "metadata": {},
   "outputs": [
    {
     "data": {
      "text/plain": [
       "0.0123759433441194"
      ]
     },
     "execution_count": 29,
     "metadata": {},
     "output_type": "execute_result"
    }
   ],
   "source": [
    "math.factorial(20)/(math.factorial(18)*math.factorial(2)) *0.2**2 * 0.7**18"
   ]
  },
  {
   "cell_type": "markdown",
   "id": "9e4792e4-4495-4423-883d-376adefa077e",
   "metadata": {},
   "source": [
    "## Geometrische verdeling"
   ]
  },
  {
   "cell_type": "markdown",
   "id": "53847b71-a45d-47af-8ab3-5af07ae49256",
   "metadata": {},
   "source": [
    "Ik zoek een voorbeeld van een slecht geimplementeerd heun-algoritme. De kans dat een student dit slecht geimplementeerd heeft is 20%. X is het aantal inleveringen dat ik moet bekijken.  Wat is de kans dat ik precies 3 inleveringen moet bekijken? Wat is de kans dat ik 2 of minder inleveringen moet bekijken?"
   ]
  },
  {
   "cell_type": "markdown",
   "id": "ba91d136-390f-4623-8fb7-eef4d719b5f6",
   "metadata": {},
   "source": [
    "$$P(X = 3) = 0.8^2*0.2 = 0.128$$"
   ]
  },
  {
   "cell_type": "code",
   "execution_count": 115,
   "id": "7a372f0c-b4ef-49e6-b362-b472cb607c2f",
   "metadata": {},
   "outputs": [],
   "source": [
    "def geom_dist(prob, k):\n",
    "    return (1-prob)**(k-1)*prob\n",
    "    "
   ]
  },
  {
   "cell_type": "code",
   "execution_count": 132,
   "id": "3183672f-9add-43ad-886d-5609821e0a32",
   "metadata": {},
   "outputs": [
    {
     "data": {
      "text/plain": [
       "0.08192000000000002"
      ]
     },
     "execution_count": 132,
     "metadata": {},
     "output_type": "execute_result"
    }
   ],
   "source": [
    "geom_dist(0.2, 5)"
   ]
  },
  {
   "cell_type": "code",
   "execution_count": 119,
   "id": "3bda456a-8223-4e9f-bc16-76c2cb259eab",
   "metadata": {},
   "outputs": [],
   "source": [
    "def geom_cdf(prob, k):\n",
    "    p = 0\n",
    "    for i in range(1,k+1):\n",
    "        p += geom_dist(prob, i)\n",
    "    return p"
   ]
  },
  {
   "cell_type": "code",
   "execution_count": 120,
   "id": "ddfea1f1-abb4-4317-9af9-df5dac34f927",
   "metadata": {},
   "outputs": [
    {
     "data": {
      "text/plain": [
       "0.36000000000000004"
      ]
     },
     "execution_count": 120,
     "metadata": {},
     "output_type": "execute_result"
    }
   ],
   "source": [
    "geom_cdf(0.2, 2)"
   ]
  },
  {
   "cell_type": "markdown",
   "id": "0da2a20c-1fb9-4825-9740-a0f0f3ce6aef",
   "metadata": {},
   "source": [
    "Maak een simulatie waarin ik 1000 keer naar een slechte inlevering zoek. Maak een histogram van het aantal inleveringen dat ik moet bekijken voor ik een voorbeeld gevonden heb"
   ]
  },
  {
   "cell_type": "code",
   "execution_count": 133,
   "id": "636569f1-ce39-404c-ad29-53b797d2c181",
   "metadata": {},
   "outputs": [],
   "source": [
    "def experiment(p):\n",
    "    count = 1\n",
    "    random_value = np.random.random()\n",
    "    while random_value < 1-p:\n",
    "        count += 1\n",
    "        random_value = np.random.random()\n",
    "    return count"
   ]
  },
  {
   "cell_type": "code",
   "execution_count": 139,
   "id": "a01acb8d-5b95-4fd4-8b1d-ed65f5f1f7f2",
   "metadata": {},
   "outputs": [],
   "source": [
    "samples = np.array([experiment(0.2) for _ in range(100)])"
   ]
  },
  {
   "cell_type": "code",
   "execution_count": 143,
   "id": "2832aa80-e7bc-4942-967c-ff6fcde62bad",
   "metadata": {},
   "outputs": [
    {
     "data": {
      "text/plain": [
       "(array([   0., 2004., 1599., 1301.,  940.,  807.,  660.,  570.,  443.,\n",
       "         335.,  288.,  210.,  170.,  129.,  112.,   99.,   72.,   49.,\n",
       "          39.,   39.,   31.,   18.,   16.,   16.]),\n",
       " array([ 0.,  1.,  2.,  3.,  4.,  5.,  6.,  7.,  8.,  9., 10., 11., 12.,\n",
       "        13., 14., 15., 16., 17., 18., 19., 20., 21., 22., 23., 24.]),\n",
       " <BarContainer object of 24 artists>)"
      ]
     },
     "execution_count": 143,
     "metadata": {},
     "output_type": "execute_result"
    },
    {
     "data": {
      "image/png": "[encoded data removed]",
      "text/plain": [
       "<Figure size 640x480 with 1 Axes>"
      ]
     },
     "metadata": {},
     "output_type": "display_data"
    }
   ],
   "source": [
    "plt.hist(samples, bins = range(25))"
   ]
  },
  {
   "cell_type": "code",
   "execution_count": 145,
   "id": "96e77e34-9e8f-4a4d-9f06-1a0f8af13550",
   "metadata": {},
   "outputs": [
    {
     "data": {
      "text/plain": [
       "5.0092"
      ]
     },
     "execution_count": 145,
     "metadata": {},
     "output_type": "execute_result"
    }
   ],
   "source": [
    "#benadering van de verwachtingswaarde\n",
    "np.mean(samples)"
   ]
  },
  {
   "cell_type": "markdown",
   "id": "7c39d710-0d5c-49e4-821e-b18d5b75a26e",
   "metadata": {},
   "source": [
    "## Math oefenopdracht Poisson"
   ]
  },
  {
   "cell_type": "markdown",
   "id": "d1cd6d7e-6fa1-4925-81d3-685f6639eab2",
   "metadata": {},
   "source": [
    "Als er gemiddeld random 3 gebeurtenissen per jaar plaatsvinden, wat is de kans op 4 random gebeurtenissen in een jaar?"
   ]
  },
  {
   "cell_type": "code",
   "execution_count": 30,
   "id": "ff3ccb5a-e163-4da5-bc4c-a8d52624da26",
   "metadata": {},
   "outputs": [],
   "source": [
    "def poisson(l,k):\n",
    "    return (l**k * np.exp(-l))/math.factorial(k)"
   ]
  },
  {
   "cell_type": "code",
   "execution_count": 31,
   "id": "32919cd2-1a9e-47dd-9489-4ddb4b3e8838",
   "metadata": {},
   "outputs": [
    {
     "data": {
      "text/plain": [
       "0.16803135574154082"
      ]
     },
     "execution_count": 31,
     "metadata": {},
     "output_type": "execute_result"
    }
   ],
   "source": [
    "poisson(3,4)"
   ]
  },
  {
   "cell_type": "markdown",
   "id": "d2ce337d-0c3b-48a1-abb1-65a5a10de23b",
   "metadata": {},
   "source": [
    "En op minder dan 3?"
   ]
  },
  {
   "cell_type": "code",
   "execution_count": 32,
   "id": "5350803f-e0d2-4f4c-af68-fa60023c7427",
   "metadata": {},
   "outputs": [],
   "source": [
    "def poisson_cumulatief(l,k):\n",
    "    return sum([poisson(l,i) for i in range(k+1)])"
   ]
  },
  {
   "cell_type": "code",
   "execution_count": 34,
   "id": "576e621d-6c92-4dec-9e04-dbaada92cc87",
   "metadata": {},
   "outputs": [
    {
     "data": {
      "text/plain": [
       "0.42319008112684353"
      ]
     },
     "execution_count": 34,
     "metadata": {},
     "output_type": "execute_result"
    }
   ],
   "source": [
    "poisson_cumulatief(3, 2)"
   ]
  },
  {
   "cell_type": "markdown",
   "id": "d807dbeb-8847-4ec7-98ef-b289d96ea045",
   "metadata": {},
   "source": [
    "## Poisson probleem 1"
   ]
  },
  {
   "cell_type": "code",
   "execution_count": 35,
   "id": "e5548e6c-3b9f-4f44-b264-e631cc4e4ac6",
   "metadata": {},
   "outputs": [
    {
     "data": {
      "text/plain": [
       "0.19914827347145578"
      ]
     },
     "execution_count": 35,
     "metadata": {},
     "output_type": "execute_result"
    }
   ],
   "source": [
    "# minder dan 2 keer\n",
    "poisson_cumulatief(3, 1)"
   ]
  },
  {
   "cell_type": "code",
   "execution_count": 36,
   "id": "389cb63f-34dc-45a8-87fa-659013d1ae82",
   "metadata": {},
   "outputs": [
    {
     "data": {
      "text/plain": [
       "0.35276811121776874"
      ]
     },
     "execution_count": 36,
     "metadata": {},
     "output_type": "execute_result"
    }
   ],
   "source": [
    "#meer dan 3\n",
    "1-poisson_cumulatief(3, 3)"
   ]
  },
  {
   "cell_type": "code",
   "execution_count": 37,
   "id": "b5067d19-4bb2-4828-a062-0295fc5c4960",
   "metadata": {},
   "outputs": [
    {
     "data": {
      "text/plain": [
       "0.33469524022264474"
      ]
     },
     "execution_count": 37,
     "metadata": {},
     "output_type": "execute_result"
    }
   ],
   "source": [
    "# 1 keer per 6 maanden\n",
    "poisson(1.5,1)"
   ]
  },
  {
   "cell_type": "markdown",
   "id": "58922025-c7f0-4912-8597-c3eb69b56199",
   "metadata": {},
   "source": [
    "## Poisson probleem 2"
   ]
  },
  {
   "cell_type": "code",
   "execution_count": 23,
   "id": "c0bda9f9-abf3-45d5-8836-55f8f04046d7",
   "metadata": {},
   "outputs": [
    {
     "data": {
      "text/plain": [
       "1.6"
      ]
     },
     "execution_count": 23,
     "metadata": {},
     "output_type": "execute_result"
    }
   ],
   "source": [
    "#1\n",
    "l_boek = 480/300\n",
    "l_boek"
   ]
  },
  {
   "cell_type": "code",
   "execution_count": 20,
   "id": "6b832d09-91dd-42d4-b0a2-48d2b064d597",
   "metadata": {},
   "outputs": [
    {
     "data": {
      "text/plain": [
       "0.20189651799465538"
      ]
     },
     "execution_count": 20,
     "metadata": {},
     "output_type": "execute_result"
    }
   ],
   "source": [
    "#2.1\n",
    "poisson(l_boek,0)"
   ]
  },
  {
   "cell_type": "code",
   "execution_count": 21,
   "id": "4fb04a2a-ac7f-4968-81ed-7abbb3fcd92c",
   "metadata": {},
   "outputs": [
    {
     "data": {
      "text/plain": [
       "0.13782802295101812"
      ]
     },
     "execution_count": 21,
     "metadata": {},
     "output_type": "execute_result"
    }
   ],
   "source": [
    "#2.2\n",
    "poisson(l_boek, 3)"
   ]
  },
  {
   "cell_type": "code",
   "execution_count": 22,
   "id": "428af28c-bf3c-463f-ad2a-cf67da59ec33",
   "metadata": {},
   "outputs": [
    {
     "data": {
      "text/plain": [
       "0.21664151018073707"
      ]
     },
     "execution_count": 22,
     "metadata": {},
     "output_type": "execute_result"
    }
   ],
   "source": [
    "#2.3\n",
    "1 - poisson_cdf(l_boek, 2)"
   ]
  },
  {
   "cell_type": "markdown",
   "id": "fba5c641-08a9-4b6e-8086-cadb48a8d73e",
   "metadata": {},
   "source": [
    "## Poisson probleem 3"
   ]
  },
  {
   "cell_type": "code",
   "execution_count": 53,
   "id": "f2bce5c3-a2b0-4561-952e-8cf093664b5d",
   "metadata": {},
   "outputs": [],
   "source": [
    "tel_pdf = [poisson(3,i) for i in range(12)]\n",
    "tel_cdf = np.cumsum(tel_pdf)"
   ]
  },
  {
   "cell_type": "code",
   "execution_count": 51,
   "id": "aa306922-3d40-4644-b41a-d963f3d0705d",
   "metadata": {},
   "outputs": [
    {
     "data": {
      "text/plain": [
       "array([0.04978707, 0.19914827, 0.42319008, 0.64723189, 0.81526324,\n",
       "       0.91608206, 0.96649146, 0.9880955 , 0.99619701, 0.99889751,\n",
       "       0.99970766, 0.99992861])"
      ]
     },
     "execution_count": 51,
     "metadata": {},
     "output_type": "execute_result"
    }
   ],
   "source": [
    "tel_cdf"
   ]
  },
  {
   "cell_type": "code",
   "execution_count": 54,
   "id": "e15167df-69ec-449b-a31b-54ae05036535",
   "metadata": {},
   "outputs": [],
   "source": [
    "def simulate(size, cdf):\n",
    "    occurences = np.zeros(size)\n",
    "    ran = np.random.random(size)\n",
    "    for i in range(size):\n",
    "        if ran[i] < cdf[0]:\n",
    "            occurences[i] = 0\n",
    "        elif ran[i] < cdf[1]:\n",
    "            occurences[i] = 1\n",
    "        elif ran[i] < cdf[2]:\n",
    "            occurences[i] = 2\n",
    "        elif ran[i] < cdf[3]:\n",
    "            occurences[i] = 3\n",
    "        elif ran[i] < cdf[4]:\n",
    "            occurences[i] = 4\n",
    "        else:\n",
    "            occurences[i] = 5\n",
    "    return occurences"
   ]
  },
  {
   "cell_type": "code",
   "execution_count": 57,
   "id": "fc86506a-8a96-4ddc-9c5b-76a4924381b8",
   "metadata": {},
   "outputs": [
    {
     "data": {
      "text/plain": [
       "68"
      ]
     },
     "execution_count": 57,
     "metadata": {},
     "output_type": "execute_result"
    }
   ],
   "source": [
    "sum(simulate(365, tel_cdf) ==5)"
   ]
  },
  {
   "cell_type": "code",
   "execution_count": 163,
   "id": "dad0adab-9933-430a-b8d1-9abec509f801",
   "metadata": {},
   "outputs": [
    {
     "data": {
      "text/plain": [
       "73"
      ]
     },
     "execution_count": 163,
     "metadata": {},
     "output_type": "execute_result"
    }
   ],
   "source": [
    "sum(np.random.poisson(3, 365)>4)"
   ]
  },
  {
   "cell_type": "code",
   "execution_count": 168,
   "id": "ffea5396-5396-4ce0-babf-a7af8335ca89",
   "metadata": {},
   "outputs": [
    {
     "data": {
      "text/plain": [
       "(array([ 21.,  76., 175., 181., 174., 157., 100.,  55.,  29.,  20.,  12.]),\n",
       " array([ 0.,  1.,  2.,  3.,  4.,  5.,  6.,  7.,  8.,  9., 10., 11.]),\n",
       " <BarContainer object of 11 artists>)"
      ]
     },
     "execution_count": 168,
     "metadata": {},
     "output_type": "execute_result"
    },
    {
     "data": {
      "image/png": "[encoded data removed]",
      "text/plain": [
       "<Figure size 640x480 with 1 Axes>"
      ]
     },
     "metadata": {},
     "output_type": "display_data"
    }
   ],
   "source": [
    "plt.hist(np.random.poisson(4, 1000), bins = range(12))"
   ]
  },
  {
   "cell_type": "markdown",
   "id": "f1477618-36d1-4c3b-a28f-4ec155fc81da",
   "metadata": {},
   "source": [
    "## Exponentiele verdeling"
   ]
  },
  {
   "cell_type": "code",
   "execution_count": 61,
   "id": "9c518b38-6053-49fb-8d48-2e4dfa3c14e4",
   "metadata": {},
   "outputs": [
    {
     "data": {
      "text/plain": [
       "1.0986122886681098"
      ]
     },
     "execution_count": 61,
     "metadata": {},
     "output_type": "execute_result"
    }
   ],
   "source": [
    "np.log(3)"
   ]
  },
  {
   "cell_type": "code",
   "execution_count": 65,
   "id": "c59cb960-c0c8-4fb8-8a18-5261d9f32ae9",
   "metadata": {},
   "outputs": [],
   "source": [
    "def exponential_between(l, a, b):\n",
    "    return (1-np.exp(-l*b)) - (1-np.exp(-l*a))"
   ]
  },
  {
   "cell_type": "code",
   "execution_count": 67,
   "id": "bfcff01a-dd2f-4d5a-8668-764c671c679c",
   "metadata": {},
   "outputs": [
    {
     "data": {
      "text/plain": [
       "0.09876543209876543"
      ]
     },
     "execution_count": 67,
     "metadata": {},
     "output_type": "execute_result"
    }
   ],
   "source": [
    "exponential_between(np.log(3), 2, 4)"
   ]
  },
  {
   "cell_type": "code",
   "execution_count": 176,
   "id": "faea684c-dc04-4ef8-aea8-c33c4ebfca3d",
   "metadata": {},
   "outputs": [],
   "source": [
    "def exp_dist(mu, t):\n",
    "    return 1/mu*np.exp(-1/mu*t)"
   ]
  },
  {
   "cell_type": "code",
   "execution_count": 183,
   "id": "d489aa9d-429f-4fd0-adba-26581ac105e6",
   "metadata": {},
   "outputs": [
    {
     "data": {
      "text/plain": [
       "<matplotlib.legend.Legend at 0x10a0f8dd0>"
      ]
     },
     "execution_count": 183,
     "metadata": {},
     "output_type": "execute_result"
    },
    {
     "data": {
      "image/png": "[encoded data removed]",
      "text/plain": [
       "<Figure size 640x480 with 1 Axes>"
      ]
     },
     "metadata": {},
     "output_type": "display_data"
    }
   ],
   "source": [
    "t = np.linspace(0,20,1000)\n",
    "y_1 = exp_dist(8, t)\n",
    "y_2 = exp_dist(4, t)\n",
    "y_3 = exp_dist(2, t)\n",
    "plt.plot(t,y_1, label = 'mu = 8')\n",
    "plt.plot(t,y_2, label = 'mu = 4')\n",
    "plt.plot(t,y_3, label = 'mu = 2')\n",
    "plt.legend()"
   ]
  }
 ],
 "metadata": {
  "kernelspec": {
   "display_name": "Python 3 (ipykernel)",
   "language": "python",
   "name": "python3"
  },
  "language_info": {
   "codemirror_mode": {
    "name": "ipython",
    "version": 3
   },
   "file_extension": ".py",
   "mimetype": "text/x-python",
   "name": "python",
   "nbconvert_exporter": "python",
   "pygments_lexer": "ipython3",
   "version": "3.12.4"
  }
 },
 "nbformat": 4,
 "nbformat_minor": 5
}

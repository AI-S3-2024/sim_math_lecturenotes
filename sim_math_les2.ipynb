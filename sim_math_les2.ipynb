{
 "cells": [
  {
   "cell_type": "markdown",
   "id": "5378b3b8-6b41-4291-91f8-4a2c3e72b80a",
   "metadata": {},
   "source": [
    "## Les 2 - 2e orde differentiaalvergelijkingen"
   ]
  },
  {
   "cell_type": "code",
   "execution_count": null,
   "id": "f9adb90b-c859-4f5f-b6c4-a1deff4541fa",
   "metadata": {},
   "outputs": [],
   "source": [
    "import matplotlib.pyplot as plt\n",
    "%matplotlib inline\n",
    "import numpy as np"
   ]
  },
  {
   "cell_type": "markdown",
   "id": "eacc3da2-3607-4f12-963f-83fc06bcc947",
   "metadata": {},
   "source": [
    "## Opdracht 1 - vrije val\n",
    "\n",
    "We laten een bal van 1 kg vallen van 50 m. Na hoeveel seconde raakt die de grond?\n",
    "- Stel de differentiaalvergelijkingen op.\n",
    "- Pas Forward Euler toe"
   ]
  },
  {
   "cell_type": "markdown",
   "id": "7809e18f-1810-4ccf-8145-9de624a36ec2",
   "metadata": {},
   "source": [
    "$$\\frac{dx}{dt} = v(t)$$\n",
    "$$\\frac{dv}{dt} = a(t) = -9.81$$\n",
    "\n",
    "Waarbij:\n",
    "\n",
    "- x(0) = 50\n",
    "- v(0) = 0\n",
    "- a(0) = a(t) = -9.81"
   ]
  },
  {
   "cell_type": "markdown",
   "id": "c31464ff-87cd-4413-bb7e-ec5238fc6719",
   "metadata": {},
   "source": [
    "De formules van Forward Euler, voor een gegeven stapgrootte $h$:\n",
    "$$x(t+h) = x(t) + h \\cdot v(t)$$\n",
    "$$v(t+h) = v(t) - h \\cdot 9.81$$ "
   ]
  },
  {
   "cell_type": "code",
   "execution_count": null,
   "id": "a3f2a643-71af-44d1-a4b8-0d60535975c3",
   "metadata": {},
   "outputs": [],
   "source": [
    "h = 0.01 #stapgrootte\n",
    "aantal_stappen = int(5/h) #we bekijken 5 seconden\n",
    "a = -9.81 #m/s^2\n",
    "\n",
    "t = np.zeros(aantal_stappen+1)\n",
    "x = np.zeros(aantal_stappen+1)\n",
    "v = np.zeros(aantal_stappen+1)\n",
    "\n",
    "x[0] = 50\n",
    "v[0] = 0\n",
    "t[0] = 0\n",
    "\n",
    "for step in range(aantal_stappen):\n",
    "    t[step + 1] = t[step] + h\n",
    "    x[step + 1] = x[step] + h * v[step]\n",
    "    v[step + 1] = v[step] + h * a #dx/dt\n"
   ]
  },
  {
   "cell_type": "code",
   "execution_count": null,
   "id": "2f8305fc-856c-45dc-aea8-0d5691a2b69a",
   "metadata": {},
   "outputs": [],
   "source": [
    "t[np.where(x>0)]"
   ]
  },
  {
   "cell_type": "code",
   "execution_count": null,
   "id": "95bc212a-9b10-41a7-86b7-e3b7d358de5a",
   "metadata": {},
   "outputs": [],
   "source": [
    "plt.plot(t,x)\n",
    "plt.xlabel('tijd in seconde')\n",
    "plt.ylabel('afgelegde afstand in meters')"
   ]
  },
  {
   "cell_type": "markdown",
   "id": "11197188-ec5a-4a3a-b45c-738e832dd3b8",
   "metadata": {},
   "source": [
    "Hier een variant die stopt als de bal de grond raakt:"
   ]
  },
  {
   "cell_type": "code",
   "execution_count": null,
   "id": "58733275-7625-40fb-b95c-3ae81d02e2f4",
   "metadata": {},
   "outputs": [],
   "source": [
    "h = 0.01 #stapgrootte\n",
    "aantal_stappen = int(5/h) #we bekijken 5 seconden\n",
    "a = -9.81\n",
    "\n",
    "t = np.zeros(aantal_stappen+1)\n",
    "x = np.zeros(aantal_stappen+1)\n",
    "v = np.zeros(aantal_stappen+1)\n",
    "\n",
    "x[0] = 50\n",
    "v[0] = 0\n",
    "\n",
    "step = 0\n",
    "while x[step] > 0:\n",
    "    t[step + 1] = t[step] + h\n",
    "    x[step + 1] = x[step] + h* v[step]\n",
    "    v[step + 1] = v[step] + h * a\n",
    "    step +=1\n",
    "\n",
    "plt.plot(t[:step],x[:step])"
   ]
  },
  {
   "cell_type": "markdown",
   "id": "2f6c2a01-34ec-45f0-800e-9399ed940f5e",
   "metadata": {},
   "source": [
    "## Opdracht 2 - veerbeweging"
   ]
  },
  {
   "cell_type": "markdown",
   "id": "15dfe8e1-0361-4cdc-bf2e-73287993029b",
   "metadata": {},
   "source": [
    "Een veer is bevestigd aan de oorsprong (x = 0) en trekt een bal (met massa 2 kg) voortdurend terug. De differentiaalvergelijking hiervoor is: \n",
    "\n",
    "$$x''(t) = -\\frac{k}{m}x(t)$$\n",
    "\n",
    "Hierbij is m de massa van de bal (dus m = 2 in ons voorbeeld) en k een getal dat aangeeft hoe stijf de veer is. In ons voorbeeld neem k = 1.\n",
    "\n",
    "Deze differentiaalvergelijking kun je vinden door Hooke's Law te combineren met de tweede wet van Newton. Hooke's Law zegt dat de kracht die een veer uitoefent op een voorwerp met mass $m$ gelijk is aan $F = -k\\cdot x$ voor een constante $k$. De tweede wet van Newton is $F = m\\cdot a$, waarbij $m$ de massa en $a$ de versnelling is. \n",
    "Deze combineren geeft: $-k\\cdot x = m \\cdot a$ en als je dit omschrijft krijg je $$a = -\\frac{k}{m} \\cdot x$$"
   ]
  },
  {
   "cell_type": "markdown",
   "id": "70c245af-9c72-49f9-875f-b9609d171f72",
   "metadata": {},
   "source": [
    "- Schrijf deze tweede orde differentiaalvergelijking om naar 2 eerste orde differentiaalvergelijkingen.\n",
    "- Pas vervolgens Forward Euler toe om de veerbeweging te visualiseren."
   ]
  },
  {
   "cell_type": "markdown",
   "id": "55e2cce0-4e0f-4198-a647-ca7ad12e98a3",
   "metadata": {},
   "source": [
    "$$ \\frac{dx}{dt} = v(t)$$\n",
    "$$ \\frac{dv}{dt} = -\\frac{k}{m} x(t)$$"
   ]
  },
  {
   "cell_type": "markdown",
   "id": "55ad7bf0-5484-4638-a6c6-afa4a4ffda63",
   "metadata": {},
   "source": [
    "De Forward Euler formules voor een gegeven stapgroote $h$ is:\n",
    "$$ x(t + h) = x(t) + h \\cdot v(t) $$\n",
    "$$ v(t + h) = v(t) - h \\cdot \\frac{k}{m} x(t)$$"
   ]
  },
  {
   "cell_type": "code",
   "execution_count": null,
   "id": "63f98678-fbeb-4160-ba2c-d20138aa9ae9",
   "metadata": {},
   "outputs": [],
   "source": [
    "import numpy\n",
    "import matplotlib.pyplot\n",
    "k = 1 # veerconstante\n",
    "m = 2 # massa van de bal\n",
    "def forward_euler():\n",
    "    h=0.1\n",
    "    num_steps = 200\n",
    "    t = numpy.zeros(num_steps+1)\n",
    "    x = numpy.zeros(num_steps+1)\n",
    "    v = numpy.zeros(num_steps+1)\n",
    "    t[0] = 0\n",
    "    x[0] = 1\n",
    "    v[0] = 0\n",
    "    \n",
    "    for step in range(num_steps):\n",
    "        t[step + 1] = t[step] + h\n",
    "        x[step + 1] = x[step] + h * v[step]\n",
    "        v[step + 1] = v[step] + h * - (k/m * x[step])\n",
    "    return(t,x,v)\n",
    "    \n",
    "t,x,v = forward_euler()\n",
    "\n",
    "def plot_me():\n",
    "    axes_height = matplotlib.pyplot.subplot(211)\n",
    "    matplotlib.pyplot.plot(t, x)\n",
    "    axes_velocity = matplotlib.pyplot.subplot(212)\n",
    "    matplotlib.pyplot.plot(t, v)\n",
    "    axes_height.set_ylabel('Height in m')\n",
    "    axes_velocity.set_ylabel('Velocity in m/s')\n",
    "    axes_velocity.set_xlabel('Time in s')\n",
    "    matplotlib.pyplot.show()\n",
    "\n",
    "plot_me()\n"
   ]
  },
  {
   "cell_type": "markdown",
   "id": "2976df14-8bfa-4097-8969-f7276feca5d0",
   "metadata": {},
   "source": [
    "## Casus: Apollo 13\n",
    "\n",
    "![](apollo.png)"
   ]
  },
  {
   "cell_type": "markdown",
   "id": "94ca63a7-439c-4c58-8113-70626ce18559",
   "metadata": {},
   "source": [
    "### Stap 1: De maan\n",
    "\n",
    "![](moon.png)\n",
    "\n",
    "- De aarde bevindt zich in dit referentiekader op $(0, 0)$\n",
    "- Voor de maan geldt (bij benadering):\n",
    " $$x(t) = 384 \\cdot 10^6 \\cdot \\cos{\\left(\\frac{2 \\pi t}{27}\\right)}$$\n",
    " $$y(t) = 384 \\cdot 10^6 \\cdot \\sin{\\left(\\frac{2 \\pi t}{27}\\right)}$$\n",
    "- $t$ is de tijd in dagen, $x$ en $y$ zijn in meters.\n",
    "- Is dit een differentiaalvergelijking? Waarom (niet)?\n",
    "- Programmeer een simulatie om de positie van de maan te bepalen. Doe dit voor $27$ dagen, met $50$ stappen. Bereken een lijst of array van $x$ en $y$ posities en plot deze."
   ]
  },
  {
   "cell_type": "code",
   "execution_count": null,
   "id": "3c8516e5-aa7d-4957-acfe-aee54916ed07",
   "metadata": {},
   "outputs": [],
   "source": [
    "moon_distance = 384e6 # m\n",
    "\n",
    "num_steps = 50\n",
    "x = np.zeros((num_steps,2))\n",
    "\n",
    "for step in range(num_steps):\n",
    "    x[step][0] = (moon_distance * np.cos(2 * np.pi * step / 27))\n",
    "    x[step][1] = (moon_distance * np.sin(2 * np.pi * step / 27))\n",
    "\n",
    "plt.axis('equal')\n",
    "plt.plot(x[:,0], x[:,1])\n",
    "axes = plt.gca()\n",
    "axes.set_xlabel('Longitudinal position in m')\n",
    "axes.set_ylabel('Lateral position in m')\n",
    "plt.show()"
   ]
  },
  {
   "cell_type": "markdown",
   "id": "83218edf-c0b4-4b89-8511-22eb1384e5f9",
   "metadata": {},
   "source": [
    "### Stap 2: Apollo 13\n",
    "\n",
    "- We programmeren de positie van Apollo 13 in een vaste baan om de aarde. Gebruik hiertoe de gegeven code als basis.\n",
    "$$\\frac{d^2\\vec p}{dt^2} = -\\frac{Gm}{r(t)^3} \\cdot \\vec p (t)$$\n",
    "- $\\vec p(t)$ is de positie, een 2D vector, ook wel $x(t)$ en $y(t)$ als componenten\n",
    "- $m$ is de massa van de aarde\n",
    "- $G$ is de gravitatieconstance $6.67\\cdot 10^{-11} N \\cdot m^2 / kg^2$\n",
    "- $r(t) = \\lVert \\vec p \\rVert = \\sqrt{p_x(t)^2 + p_y(t)^2}$ is de afstand van de raket tot de aarde.\n",
    "\n",
    "- $\\vec v(t)$ is de snelheid, een 2D vector, die bestaat uit de twee afgeleiden\n",
    "$$\\vec v = \\begin{bmatrix}\n",
    "\\frac{dx}{dt} \\\\\n",
    "\\frac{dy}{dt}\n",
    "\\end{bmatrix}$$\n",
    "\n",
    "- $\\vec a(t)$ is de versnelling, een 2D vector, die bestaat uit de twee tweede afgeleiden. Deze houden we niet bij, maar wordt berekend aan de hand van de positie. \n",
    "\n",
    "$$\\vec a = \\begin{bmatrix}\n",
    "\\frac{d^2 x}{dt^2} \\\\\n",
    "\\frac{d^2 y}{dt^2}\n",
    "\\end{bmatrix} = \\begin{bmatrix}\n",
    "\\frac{dv_x}{dt} \\\\\n",
    "\\frac{dv_y}{dt}\n",
    "\\end{bmatrix} = - \\frac{Gm}{r(t)^3} \\cdot \\begin{bmatrix}\n",
    "x(t) \\\\\n",
    "y(t)\n",
    "\\end{bmatrix}$$\n",
    "\n",
    "### Euler\n",
    "$$x(t + h) = x(t) + h \\cdot v_x(t)$$\n",
    "$$v_x(t+h) = v_x(t) - h \\cdot \\frac{Gm}{r(t)^3} \\cdot x(t)$$\n",
    "$$y(t + h) = y(t) + h \\cdot v_y(t)$$\n",
    "$$v_y(t+h) = v_y(t) - h \\cdot \\frac{Gm}{r(t)^3} \\cdot y(t)$$\n",
    "\n",
    "- De differentiaalvergelijking in dit voorbeeld werkt op een 2D vectoren. Wij splitsen deze op in een $x$ en $y$ component die we apart behandelen. Om de twee componenten op te slaan kun je een Numpy array gebruiken met 2 kolommen (en een rij per tijdspunt). Same voor $v$.\n",
    "\n",
    "- Voor het berekenen van $r$ zijn wel beide componenten nodig. We kunnen de laatst-berekende rij steeds als vector meegegven."
   ]
  },
  {
   "cell_type": "code",
   "execution_count": 1,
   "id": "897b59a5-f192-466e-8f3e-07aa41147e4a",
   "metadata": {},
   "outputs": [
    {
     "data": {
      "image/png": "[encoded data removed]",
      "text/plain": [
       "<Figure size 640x480 with 1 Axes>"
      ]
     },
     "metadata": {},
     "output_type": "display_data"
    }
   ],
   "source": [
    "import numpy as np\n",
    "import matplotlib.pyplot as plt\n",
    "\n",
    "h = 0.1 # s\n",
    "earth_mass = 5.97e24 # kg\n",
    "gravitational_constant = 6.67e-11 # N m2 / kg2\n",
    "\n",
    "def acceleration(spaceship_position):\n",
    "    vector_to_earth = - spaceship_position # earth at origin\n",
    "    return gravitational_constant * earth_mass / np.linalg.norm(vector_to_earth) ** 3 * vector_to_earth\n",
    "\n",
    "def ship_trajectory():\n",
    "    num_steps = 200000 # Feel free to experiment with a lower number of steps\n",
    "    x = np.zeros([num_steps + 1, 2]) # m\n",
    "    v = np.zeros([num_steps + 1, 2]) # m/s\n",
    "    x[0, 0] = 15e6 # start values of spacecraft\n",
    "    x[0, 1] = 1e6\n",
    "    v[0, 0] = 2e3\n",
    "    v[0, 1] = 4e3\n",
    "    \n",
    "    for step in range(0, num_steps):\n",
    "        a = acceleration(x[step])\n",
    "        x[step+1, 0] = x[step, 0] + h*(v[step, 0])\n",
    "        x[step+1, 1] = x[step, 1] + h*(v[step, 1])\n",
    "        v[step+1, 0] = v[step,0] + h * a[0]\n",
    "        v[step+1, 1] = v[step,1] + h * a[1]\n",
    "        \n",
    "    return x, v\n",
    "\n",
    "x, v = ship_trajectory()\n",
    "\n",
    "def plot_me():\n",
    "    plt.plot(x[:, 0], x[:, 1])\n",
    "    plt.scatter(0, 0)\n",
    "    plt.axis('equal')\n",
    "    axes = plt.gca()\n",
    "    axes.set_xlabel('Longitudinal position in m')\n",
    "    axes.set_ylabel('Lateral position in m')\n",
    "    plt.show()\n",
    "\n",
    "plot_me()\n"
   ]
  },
  {
   "cell_type": "markdown",
   "id": "335cfbdb-d3a0-4559-a799-e7796caa15d9",
   "metadata": {},
   "source": [
    "Alternatief: Je kunt ook beide coordinaten in 1 keer updaten."
   ]
  },
  {
   "cell_type": "code",
   "execution_count": null,
   "id": "22f5e20a-2e24-42a8-bc55-ce768a8464b4",
   "metadata": {
    "scrolled": true
   },
   "outputs": [],
   "source": [
    "import numpy as np\n",
    "import matplotlib.pyplot as plt\n",
    "\n",
    "h = 0.1 # s\n",
    "earth_mass = 5.97e24 # kg\n",
    "gravitational_constant = 6.67e-11 # N m2 / kg2\n",
    "\n",
    "def acceleration(spaceship_position):\n",
    "    vector_to_earth = - spaceship_position # earth at origin\n",
    "    return gravitational_constant * earth_mass / np.linalg.norm(vector_to_earth) ** 3 * vector_to_earth\n",
    "\n",
    "def ship_trajectory():\n",
    "    num_steps = 200000 # Feel free to experiment with a lower number of steps\n",
    "    x = np.zeros([num_steps + 1, 2]) # m\n",
    "    v = np.zeros([num_steps + 1, 2]) # m/s\n",
    "    x[0, 0] = 15e6 # start values of spacecraft\n",
    "    x[0, 1] = 1e6\n",
    "    v[0, 0] = 2e3\n",
    "    v[0, 1] = 4e3\n",
    "    \n",
    "    for i in range(0, num_steps):\n",
    "        a = acceleration(x[i])\n",
    "        x[i + 1] = x[i] + h * v[i]\n",
    "        v[i + 1] = v[i] + h * a\n",
    "    return x, v\n",
    "\n",
    "x, v = ship_trajectory()\n",
    "\n",
    "def plot_me():\n",
    "    plt.plot(x[:, 0], x[:, 1])\n",
    "    plt.scatter(0, 0)\n",
    "    plt.axis('equal')\n",
    "    axes = plt.gca()\n",
    "    axes.set_xlabel('Longitudinal position in m')\n",
    "    axes.set_ylabel('Lateral position in m')\n",
    "    plt.show()\n",
    "\n",
    "plot_me()\n"
   ]
  },
  {
   "cell_type": "markdown",
   "id": "b1b8d779-686f-479b-b140-18b60b945438",
   "metadata": {},
   "source": [
    "## Volgende les:"
   ]
  },
  {
   "cell_type": "markdown",
   "id": "28abc7e3-7e13-4f21-9563-637f4fa0f1ea",
   "metadata": {},
   "source": [
    "Heun's method: een nauwkeurigere methode dan Forward Euler."
   ]
  }
 ],
 "metadata": {
  "kernelspec": {
   "display_name": "Python 3 (ipykernel)",
   "language": "python",
   "name": "python3"
  },
  "language_info": {
   "codemirror_mode": {
    "name": "ipython",
    "version": 3
   },
   "file_extension": ".py",
   "mimetype": "text/x-python",
   "name": "python",
   "nbconvert_exporter": "python",
   "pygments_lexer": "ipython3",
   "version": "3.12.4"
  }
 },
 "nbformat": 4,
 "nbformat_minor": 5
}
